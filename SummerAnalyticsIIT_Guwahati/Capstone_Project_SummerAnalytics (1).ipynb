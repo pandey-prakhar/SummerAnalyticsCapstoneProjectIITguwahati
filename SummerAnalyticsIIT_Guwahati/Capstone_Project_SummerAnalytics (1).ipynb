{
  "nbformat": 4,
  "nbformat_minor": 0,
  "metadata": {
    "colab": {
      "name": "Capstone_Project_SummerAnalytics.ipynb",
      "provenance": []
    },
    "kernelspec": {
      "name": "python3",
      "display_name": "Python 3"
    },
    "language_info": {
      "name": "python"
    }
  },
  "cells": [
    {
      "cell_type": "code",
      "metadata": {
        "id": "YVM67pm0uU-e"
      },
      "source": [
        "import numpy as np\n",
        "import pandas as pd\n",
        "import matplotlib.cm as cm\n",
        "import matplotlib.pyplot as plt\n",
        "% matplotlib inline\n"
      ],
      "execution_count": null,
      "outputs": []
    },
    {
      "cell_type": "markdown",
      "metadata": {
        "id": "J0uOQ0tGqYFd"
      },
      "source": [
        "importing data."
      ]
    },
    {
      "cell_type": "code",
      "metadata": {
        "colab": {
          "resources": {
            "http://localhost:8080/nbextensions/google.colab/files.js": {
              "data": "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",
              "ok": true,
              "headers": [
                [
                  "content-type",
                  "application/javascript"
                ]
              ],
              "status": 200,
              "status_text": ""
            }
          },
          "base_uri": "https://localhost:8080/",
          "height": 73
        },
        "id": "0LGaL_D0qe8J",
        "outputId": "626063f6-b37b-44f4-8f14-8391187e7fe6"
      },
      "source": [
        "from google.colab import files\n",
        "uploaded= files.upload()"
      ],
      "execution_count": null,
      "outputs": [
        {
          "output_type": "display_data",
          "data": {
            "text/html": [
              "\n",
              "     <input type=\"file\" id=\"files-52709ffc-8570-443b-9f65-0e25353be34f\" name=\"files[]\" multiple disabled\n",
              "        style=\"border:none\" />\n",
              "     <output id=\"result-52709ffc-8570-443b-9f65-0e25353be34f\">\n",
              "      Upload widget is only available when the cell has been executed in the\n",
              "      current browser session. Please rerun this cell to enable.\n",
              "      </output>\n",
              "      <script src=\"/nbextensions/google.colab/files.js\"></script> "
            ],
            "text/plain": [
              "<IPython.core.display.HTML object>"
            ]
          },
          "metadata": {
            "tags": []
          }
        },
        {
          "output_type": "stream",
          "text": [
            "Saving Train_Data.csv to Train_Data.csv\n"
          ],
          "name": "stdout"
        }
      ]
    },
    {
      "cell_type": "code",
      "metadata": {
        "colab": {
          "base_uri": "https://localhost:8080/"
        },
        "id": "4Au5mfd3qmLu",
        "outputId": "12363015-7ea6-466c-f9f1-ddf2a3c6b549"
      },
      "source": [
        "data_train= pd.read_csv('Train_Data.csv')\n",
        "data_train.head()\n",
        "data_train.shape"
      ],
      "execution_count": null,
      "outputs": [
        {
          "output_type": "execute_result",
          "data": {
            "text/plain": [
              "(4571, 9)"
            ]
          },
          "metadata": {
            "tags": []
          },
          "execution_count": 18
        }
      ]
    },
    {
      "cell_type": "markdown",
      "metadata": {
        "id": "rhmWtkIusriA"
      },
      "source": [
        "converting values to integers for impression, clicks ,cost, conversion , revenue"
      ]
    },
    {
      "cell_type": "code",
      "metadata": {
        "id": "7oLM_Efcsu9f"
      },
      "source": [
        "data_train['impressions']=pd.to_numeric(data_train['impressions'])\n",
        "data_train['clicks']=pd.to_numeric(data_train['clicks'])\n",
        "data_train['cost']=pd.to_numeric(data_train['cost'])\n",
        "data_train['conversions']=pd.to_numeric(data_train['conversions'])\n",
        "data_train['revenue']=pd.to_numeric(data_train['revenue'])"
      ],
      "execution_count": null,
      "outputs": []
    },
    {
      "cell_type": "markdown",
      "metadata": {
        "id": "hkfW2m4vujSy"
      },
      "source": [
        "Encoding features like date, campaign,adgroup, ad."
      ]
    },
    {
      "cell_type": "code",
      "metadata": {
        "colab": {
          "base_uri": "https://localhost:8080/",
          "height": 205
        },
        "id": "LZO4tlMruRz4",
        "outputId": "945909ac-5b2f-4caf-e9d4-795997f80f5d"
      },
      "source": [
        "from sklearn.preprocessing import LabelEncoder\n",
        "data_train['date']=LabelEncoder().fit_transform(data_train['date'])\n",
        "data_train['adgroup']=LabelEncoder().fit_transform(data_train['adgroup'])\n",
        "data_train['campaign']=LabelEncoder().fit_transform(data_train['campaign'])\n",
        "data_train['ad']=LabelEncoder().fit_transform(data_train['ad'])\n",
        "data_train.head()"
      ],
      "execution_count": null,
      "outputs": [
        {
          "output_type": "execute_result",
          "data": {
            "text/html": [
              "<div>\n",
              "<style scoped>\n",
              "    .dataframe tbody tr th:only-of-type {\n",
              "        vertical-align: middle;\n",
              "    }\n",
              "\n",
              "    .dataframe tbody tr th {\n",
              "        vertical-align: top;\n",
              "    }\n",
              "\n",
              "    .dataframe thead th {\n",
              "        text-align: right;\n",
              "    }\n",
              "</style>\n",
              "<table border=\"1\" class=\"dataframe\">\n",
              "  <thead>\n",
              "    <tr style=\"text-align: right;\">\n",
              "      <th></th>\n",
              "      <th>date</th>\n",
              "      <th>campaign</th>\n",
              "      <th>adgroup</th>\n",
              "      <th>ad</th>\n",
              "      <th>impressions</th>\n",
              "      <th>clicks</th>\n",
              "      <th>cost</th>\n",
              "      <th>conversions</th>\n",
              "      <th>revenue</th>\n",
              "    </tr>\n",
              "  </thead>\n",
              "  <tbody>\n",
              "    <tr>\n",
              "      <th>0</th>\n",
              "      <td>2</td>\n",
              "      <td>0</td>\n",
              "      <td>0</td>\n",
              "      <td>0</td>\n",
              "      <td>24</td>\n",
              "      <td>6</td>\n",
              "      <td>0.08</td>\n",
              "      <td>0</td>\n",
              "      <td>0.00</td>\n",
              "    </tr>\n",
              "    <tr>\n",
              "      <th>1</th>\n",
              "      <td>2</td>\n",
              "      <td>0</td>\n",
              "      <td>1</td>\n",
              "      <td>0</td>\n",
              "      <td>1</td>\n",
              "      <td>0</td>\n",
              "      <td>0.00</td>\n",
              "      <td>0</td>\n",
              "      <td>0.00</td>\n",
              "    </tr>\n",
              "    <tr>\n",
              "      <th>2</th>\n",
              "      <td>2</td>\n",
              "      <td>0</td>\n",
              "      <td>2</td>\n",
              "      <td>0</td>\n",
              "      <td>13</td>\n",
              "      <td>4</td>\n",
              "      <td>0.04</td>\n",
              "      <td>0</td>\n",
              "      <td>0.00</td>\n",
              "    </tr>\n",
              "    <tr>\n",
              "      <th>3</th>\n",
              "      <td>2</td>\n",
              "      <td>0</td>\n",
              "      <td>3</td>\n",
              "      <td>0</td>\n",
              "      <td>5</td>\n",
              "      <td>4</td>\n",
              "      <td>0.08</td>\n",
              "      <td>0</td>\n",
              "      <td>0.00</td>\n",
              "    </tr>\n",
              "    <tr>\n",
              "      <th>4</th>\n",
              "      <td>2</td>\n",
              "      <td>0</td>\n",
              "      <td>0</td>\n",
              "      <td>11</td>\n",
              "      <td>247</td>\n",
              "      <td>126</td>\n",
              "      <td>1.29</td>\n",
              "      <td>4</td>\n",
              "      <td>925.71</td>\n",
              "    </tr>\n",
              "  </tbody>\n",
              "</table>\n",
              "</div>"
            ],
            "text/plain": [
              "   date  campaign  adgroup  ad  impressions  clicks  cost  conversions  revenue\n",
              "0     2         0        0   0           24       6  0.08            0     0.00\n",
              "1     2         0        1   0            1       0  0.00            0     0.00\n",
              "2     2         0        2   0           13       4  0.04            0     0.00\n",
              "3     2         0        3   0            5       4  0.08            0     0.00\n",
              "4     2         0        0  11          247     126  1.29            4   925.71"
            ]
          },
          "metadata": {
            "tags": []
          },
          "execution_count": 20
        }
      ]
    },
    {
      "cell_type": "markdown",
      "metadata": {
        "id": "TfqKKOeGwn0g"
      },
      "source": [
        "# Visualization"
      ]
    },
    {
      "cell_type": "markdown",
      "metadata": {
        "id": "QNdC-jPPy0oi"
      },
      "source": [
        "individual plot"
      ]
    },
    {
      "cell_type": "code",
      "metadata": {
        "colab": {
          "base_uri": "https://localhost:8080/",
          "height": 1000
        },
        "id": "hoo6tuLlwoVX",
        "outputId": "6c3f0212-3e3c-4f41-88ed-0c6dbe4320c7"
      },
      "source": [
        "plt.plot(data_train['revenue'])\n",
        "plt.show()\n",
        "plt.plot(data_train['impressions'])\n",
        "plt.show()\n",
        "plt.plot(data_train['clicks'])\n",
        "plt.show()\n",
        "plt.plot(data_train['cost'])\n",
        "plt.show()\n",
        "plt.plot(data_train['conversions'])\n",
        "plt.show()"
      ],
      "execution_count": null,
      "outputs": [
        {
          "output_type": "display_data",
          "data": {
            "image/png": "[encoded data removed]",
            "text/plain": [
              "<Figure size 432x288 with 1 Axes>"
            ]
          },
          "metadata": {
            "tags": [],
            "needs_background": "light"
          }
        },
        {
          "output_type": "display_data",
          "data": {
            "image/png": "[encoded data removed]",
            "text/plain": [
              "<Figure size 432x288 with 1 Axes>"
            ]
          },
          "metadata": {
            "tags": [],
            "needs_background": "light"
          }
        },
        {
          "output_type": "display_data",
          "data": {
            "image/png": "[encoded data removed]",
            "text/plain": [
              "<Figure size 432x288 with 1 Axes>"
            ]
          },
          "metadata": {
            "tags": [],
            "needs_background": "light"
          }
        },
        {
          "output_type": "display_data",
          "data": {
            "image/png": "[encoded data removed]",
            "text/plain": [
              "<Figure size 432x288 with 1 Axes>"
            ]
          },
          "metadata": {
            "tags": [],
            "needs_background": "light"
          }
        },
        {
          "output_type": "display_data",
          "data": {
            "image/png": "[encoded data removed]",
            "text/plain": [
              "<Figure size 432x288 with 1 Axes>"
            ]
          },
          "metadata": {
            "tags": [],
            "needs_background": "light"
          }
        }
      ]
    },
    {
      "cell_type": "markdown",
      "metadata": {
        "id": "MR7z-leNxf5_"
      },
      "source": [
        "Remove data with with revenue greater than 1650 as outlier."
      ]
    },
    {
      "cell_type": "code",
      "metadata": {
        "id": "AtVmkEuKxg3X"
      },
      "source": [
        "data_train=data_train[data_train['revenue']<1750]\n",
        "data_train=data_train[data_train['impressions']<2050]\n",
        "data_train=data_train[data_train['conversions']<80]\n"
      ],
      "execution_count": null,
      "outputs": []
    },
    {
      "cell_type": "code",
      "metadata": {
        "colab": {
          "base_uri": "https://localhost:8080/",
          "height": 1000
        },
        "id": "3wMr5j3wySF9",
        "outputId": "dbc16466-5095-44e8-e2b1-21947df4c35d"
      },
      "source": [
        "plt.plot(data_train['revenue'])\n",
        "plt.show()\n",
        "plt.plot(data_train['impressions'])\n",
        "plt.show()\n",
        "plt.plot(data_train['clicks'])\n",
        "plt.show()\n",
        "plt.plot(data_train['cost'])\n",
        "plt.show()\n",
        "plt.plot(data_train['conversions'])\n",
        "plt.show()"
      ],
      "execution_count": null,
      "outputs": [
        {
          "output_type": "display_data",
          "data": {
            "image/png": "[encoded data removed]",
            "text/plain": [
              "<Figure size 432x288 with 1 Axes>"
            ]
          },
          "metadata": {
            "tags": [],
            "needs_background": "light"
          }
        },
        {
          "output_type": "display_data",
          "data": {
            "image/png": "[encoded data removed]",
            "text/plain": [
              "<Figure size 432x288 with 1 Axes>"
            ]
          },
          "metadata": {
            "tags": [],
            "needs_background": "light"
          }
        },
        {
          "output_type": "display_data",
          "data": {
            "image/png": "[encoded data removed]",
            "text/plain": [
              "<Figure size 432x288 with 1 Axes>"
            ]
          },
          "metadata": {
            "tags": [],
            "needs_background": "light"
          }
        },
        {
          "output_type": "display_data",
          "data": {
            "image/png": "[encoded data removed]",
            "text/plain": [
              "<Figure size 432x288 with 1 Axes>"
            ]
          },
          "metadata": {
            "tags": [],
            "needs_background": "light"
          }
        },
        {
          "output_type": "display_data",
          "data": {
            "image/png": "[encoded data removed]",
            "text/plain": [
              "<Figure size 432x288 with 1 Axes>"
            ]
          },
          "metadata": {
            "tags": [],
            "needs_background": "light"
          }
        }
      ]
    },
    {
      "cell_type": "markdown",
      "metadata": {
        "id": "tisJ0Yx-yxU_"
      },
      "source": [
        "heatmap"
      ]
    },
    {
      "cell_type": "code",
      "metadata": {
        "colab": {
          "base_uri": "https://localhost:8080/",
          "height": 537
        },
        "id": "p8ZXg_njyypM",
        "outputId": "682c4033-125c-4398-f5d2-bfe50f1b1e75"
      },
      "source": [
        "import seaborn as sns\n",
        "f, ax= plt.subplots(figsize=(10,8))\n",
        "corr= data_train.corr()\n",
        "sns.heatmap(corr, mask=np.zeros_like(corr, dtype=np.bool), cmap=sns.diverging_palette(220, 10, as_cmap=True),square=True,\n",
        "            ax=ax, annot=True)\n",
        "plt.show()\n"
      ],
      "execution_count": null,
      "outputs": [
        {
          "output_type": "display_data",
          "data": {
            "image/png": "[encoded data removed]",
            "text/plain": [
              "<Figure size 720x576 with 2 Axes>"
            ]
          },
          "metadata": {
            "tags": [],
            "needs_background": "light"
          }
        }
      ]
    },
    {
      "cell_type": "code",
      "metadata": {
        "colab": {
          "base_uri": "https://localhost:8080/",
          "height": 205
        },
        "id": "rJgKXcQQzaLs",
        "outputId": "58d6fcf9-dc8d-491b-caa5-c2bfcaec530f"
      },
      "source": [
        "data_train=data_train.drop([\"campaign\"],axis=1)\n",
        "data_train.head()"
      ],
      "execution_count": null,
      "outputs": [
        {
          "output_type": "execute_result",
          "data": {
            "text/html": [
              "<div>\n",
              "<style scoped>\n",
              "    .dataframe tbody tr th:only-of-type {\n",
              "        vertical-align: middle;\n",
              "    }\n",
              "\n",
              "    .dataframe tbody tr th {\n",
              "        vertical-align: top;\n",
              "    }\n",
              "\n",
              "    .dataframe thead th {\n",
              "        text-align: right;\n",
              "    }\n",
              "</style>\n",
              "<table border=\"1\" class=\"dataframe\">\n",
              "  <thead>\n",
              "    <tr style=\"text-align: right;\">\n",
              "      <th></th>\n",
              "      <th>date</th>\n",
              "      <th>adgroup</th>\n",
              "      <th>ad</th>\n",
              "      <th>impressions</th>\n",
              "      <th>clicks</th>\n",
              "      <th>cost</th>\n",
              "      <th>conversions</th>\n",
              "      <th>revenue</th>\n",
              "    </tr>\n",
              "  </thead>\n",
              "  <tbody>\n",
              "    <tr>\n",
              "      <th>0</th>\n",
              "      <td>2</td>\n",
              "      <td>0</td>\n",
              "      <td>0</td>\n",
              "      <td>24</td>\n",
              "      <td>6</td>\n",
              "      <td>0.08</td>\n",
              "      <td>0</td>\n",
              "      <td>0.00</td>\n",
              "    </tr>\n",
              "    <tr>\n",
              "      <th>1</th>\n",
              "      <td>2</td>\n",
              "      <td>1</td>\n",
              "      <td>0</td>\n",
              "      <td>1</td>\n",
              "      <td>0</td>\n",
              "      <td>0.00</td>\n",
              "      <td>0</td>\n",
              "      <td>0.00</td>\n",
              "    </tr>\n",
              "    <tr>\n",
              "      <th>2</th>\n",
              "      <td>2</td>\n",
              "      <td>2</td>\n",
              "      <td>0</td>\n",
              "      <td>13</td>\n",
              "      <td>4</td>\n",
              "      <td>0.04</td>\n",
              "      <td>0</td>\n",
              "      <td>0.00</td>\n",
              "    </tr>\n",
              "    <tr>\n",
              "      <th>3</th>\n",
              "      <td>2</td>\n",
              "      <td>3</td>\n",
              "      <td>0</td>\n",
              "      <td>5</td>\n",
              "      <td>4</td>\n",
              "      <td>0.08</td>\n",
              "      <td>0</td>\n",
              "      <td>0.00</td>\n",
              "    </tr>\n",
              "    <tr>\n",
              "      <th>4</th>\n",
              "      <td>2</td>\n",
              "      <td>0</td>\n",
              "      <td>11</td>\n",
              "      <td>247</td>\n",
              "      <td>126</td>\n",
              "      <td>1.29</td>\n",
              "      <td>4</td>\n",
              "      <td>925.71</td>\n",
              "    </tr>\n",
              "  </tbody>\n",
              "</table>\n",
              "</div>"
            ],
            "text/plain": [
              "   date  adgroup  ad  impressions  clicks  cost  conversions  revenue\n",
              "0     2        0   0           24       6  0.08            0     0.00\n",
              "1     2        1   0            1       0  0.00            0     0.00\n",
              "2     2        2   0           13       4  0.04            0     0.00\n",
              "3     2        3   0            5       4  0.08            0     0.00\n",
              "4     2        0  11          247     126  1.29            4   925.71"
            ]
          },
          "metadata": {
            "tags": []
          },
          "execution_count": 25
        }
      ]
    },
    {
      "cell_type": "markdown",
      "metadata": {
        "id": "IDq16g-d0jI_"
      },
      "source": [
        "splitting data"
      ]
    },
    {
      "cell_type": "code",
      "metadata": {
        "colab": {
          "base_uri": "https://localhost:8080/",
          "height": 205
        },
        "id": "DT2gxwyb0lTx",
        "outputId": "fdffcac3-b960-4abe-d890-6808f936df45"
      },
      "source": [
        "Y_train= pd.DataFrame(data=data_train.iloc[:,7].values, columns=['target'])\n",
        "data_train.head()"
      ],
      "execution_count": null,
      "outputs": [
        {
          "output_type": "execute_result",
          "data": {
            "text/html": [
              "<div>\n",
              "<style scoped>\n",
              "    .dataframe tbody tr th:only-of-type {\n",
              "        vertical-align: middle;\n",
              "    }\n",
              "\n",
              "    .dataframe tbody tr th {\n",
              "        vertical-align: top;\n",
              "    }\n",
              "\n",
              "    .dataframe thead th {\n",
              "        text-align: right;\n",
              "    }\n",
              "</style>\n",
              "<table border=\"1\" class=\"dataframe\">\n",
              "  <thead>\n",
              "    <tr style=\"text-align: right;\">\n",
              "      <th></th>\n",
              "      <th>date</th>\n",
              "      <th>adgroup</th>\n",
              "      <th>ad</th>\n",
              "      <th>impressions</th>\n",
              "      <th>clicks</th>\n",
              "      <th>cost</th>\n",
              "      <th>conversions</th>\n",
              "      <th>revenue</th>\n",
              "    </tr>\n",
              "  </thead>\n",
              "  <tbody>\n",
              "    <tr>\n",
              "      <th>0</th>\n",
              "      <td>2</td>\n",
              "      <td>0</td>\n",
              "      <td>0</td>\n",
              "      <td>24</td>\n",
              "      <td>6</td>\n",
              "      <td>0.08</td>\n",
              "      <td>0</td>\n",
              "      <td>0.00</td>\n",
              "    </tr>\n",
              "    <tr>\n",
              "      <th>1</th>\n",
              "      <td>2</td>\n",
              "      <td>1</td>\n",
              "      <td>0</td>\n",
              "      <td>1</td>\n",
              "      <td>0</td>\n",
              "      <td>0.00</td>\n",
              "      <td>0</td>\n",
              "      <td>0.00</td>\n",
              "    </tr>\n",
              "    <tr>\n",
              "      <th>2</th>\n",
              "      <td>2</td>\n",
              "      <td>2</td>\n",
              "      <td>0</td>\n",
              "      <td>13</td>\n",
              "      <td>4</td>\n",
              "      <td>0.04</td>\n",
              "      <td>0</td>\n",
              "      <td>0.00</td>\n",
              "    </tr>\n",
              "    <tr>\n",
              "      <th>3</th>\n",
              "      <td>2</td>\n",
              "      <td>3</td>\n",
              "      <td>0</td>\n",
              "      <td>5</td>\n",
              "      <td>4</td>\n",
              "      <td>0.08</td>\n",
              "      <td>0</td>\n",
              "      <td>0.00</td>\n",
              "    </tr>\n",
              "    <tr>\n",
              "      <th>4</th>\n",
              "      <td>2</td>\n",
              "      <td>0</td>\n",
              "      <td>11</td>\n",
              "      <td>247</td>\n",
              "      <td>126</td>\n",
              "      <td>1.29</td>\n",
              "      <td>4</td>\n",
              "      <td>925.71</td>\n",
              "    </tr>\n",
              "  </tbody>\n",
              "</table>\n",
              "</div>"
            ],
            "text/plain": [
              "   date  adgroup  ad  impressions  clicks  cost  conversions  revenue\n",
              "0     2        0   0           24       6  0.08            0     0.00\n",
              "1     2        1   0            1       0  0.00            0     0.00\n",
              "2     2        2   0           13       4  0.04            0     0.00\n",
              "3     2        3   0            5       4  0.08            0     0.00\n",
              "4     2        0  11          247     126  1.29            4   925.71"
            ]
          },
          "metadata": {
            "tags": []
          },
          "execution_count": 26
        }
      ]
    },
    {
      "cell_type": "code",
      "metadata": {
        "id": "ulnvk4qw06f0"
      },
      "source": [
        "data_train=data_train.drop([\"revenue\"],axis=1)\n"
      ],
      "execution_count": null,
      "outputs": []
    },
    {
      "cell_type": "code",
      "metadata": {
        "colab": {
          "base_uri": "https://localhost:8080/",
          "height": 205
        },
        "id": "AnQm6LlR1SaO",
        "outputId": "6c077aaa-8744-48d0-96b5-7d108a92f126"
      },
      "source": [
        "data_train.head()"
      ],
      "execution_count": null,
      "outputs": [
        {
          "output_type": "execute_result",
          "data": {
            "text/html": [
              "<div>\n",
              "<style scoped>\n",
              "    .dataframe tbody tr th:only-of-type {\n",
              "        vertical-align: middle;\n",
              "    }\n",
              "\n",
              "    .dataframe tbody tr th {\n",
              "        vertical-align: top;\n",
              "    }\n",
              "\n",
              "    .dataframe thead th {\n",
              "        text-align: right;\n",
              "    }\n",
              "</style>\n",
              "<table border=\"1\" class=\"dataframe\">\n",
              "  <thead>\n",
              "    <tr style=\"text-align: right;\">\n",
              "      <th></th>\n",
              "      <th>date</th>\n",
              "      <th>adgroup</th>\n",
              "      <th>ad</th>\n",
              "      <th>impressions</th>\n",
              "      <th>clicks</th>\n",
              "      <th>cost</th>\n",
              "      <th>conversions</th>\n",
              "    </tr>\n",
              "  </thead>\n",
              "  <tbody>\n",
              "    <tr>\n",
              "      <th>0</th>\n",
              "      <td>2</td>\n",
              "      <td>0</td>\n",
              "      <td>0</td>\n",
              "      <td>24</td>\n",
              "      <td>6</td>\n",
              "      <td>0.08</td>\n",
              "      <td>0</td>\n",
              "    </tr>\n",
              "    <tr>\n",
              "      <th>1</th>\n",
              "      <td>2</td>\n",
              "      <td>1</td>\n",
              "      <td>0</td>\n",
              "      <td>1</td>\n",
              "      <td>0</td>\n",
              "      <td>0.00</td>\n",
              "      <td>0</td>\n",
              "    </tr>\n",
              "    <tr>\n",
              "      <th>2</th>\n",
              "      <td>2</td>\n",
              "      <td>2</td>\n",
              "      <td>0</td>\n",
              "      <td>13</td>\n",
              "      <td>4</td>\n",
              "      <td>0.04</td>\n",
              "      <td>0</td>\n",
              "    </tr>\n",
              "    <tr>\n",
              "      <th>3</th>\n",
              "      <td>2</td>\n",
              "      <td>3</td>\n",
              "      <td>0</td>\n",
              "      <td>5</td>\n",
              "      <td>4</td>\n",
              "      <td>0.08</td>\n",
              "      <td>0</td>\n",
              "    </tr>\n",
              "    <tr>\n",
              "      <th>4</th>\n",
              "      <td>2</td>\n",
              "      <td>0</td>\n",
              "      <td>11</td>\n",
              "      <td>247</td>\n",
              "      <td>126</td>\n",
              "      <td>1.29</td>\n",
              "      <td>4</td>\n",
              "    </tr>\n",
              "  </tbody>\n",
              "</table>\n",
              "</div>"
            ],
            "text/plain": [
              "   date  adgroup  ad  impressions  clicks  cost  conversions\n",
              "0     2        0   0           24       6  0.08            0\n",
              "1     2        1   0            1       0  0.00            0\n",
              "2     2        2   0           13       4  0.04            0\n",
              "3     2        3   0            5       4  0.08            0\n",
              "4     2        0  11          247     126  1.29            4"
            ]
          },
          "metadata": {
            "tags": []
          },
          "execution_count": 28
        }
      ]
    },
    {
      "cell_type": "code",
      "metadata": {
        "colab": {
          "base_uri": "https://localhost:8080/"
        },
        "id": "GBUVhB_y1fQu",
        "outputId": "2985d934-54c3-4431-aa53-dd7ff855c77c"
      },
      "source": [
        "from sklearn.model_selection import train_test_split\n",
        "X_train, X_test, y_train, y_test= train_test_split(data_train, Y_train, test_size=0.05, random_state=42)\n",
        "X_train.shape"
      ],
      "execution_count": null,
      "outputs": [
        {
          "output_type": "execute_result",
          "data": {
            "text/plain": [
              "(4245, 7)"
            ]
          },
          "metadata": {
            "tags": []
          },
          "execution_count": 29
        }
      ]
    },
    {
      "cell_type": "markdown",
      "metadata": {
        "id": "xXg-_2UJ13aK"
      },
      "source": [
        "Normalize data"
      ]
    },
    {
      "cell_type": "code",
      "metadata": {
        "id": "3NV5jQp915vn"
      },
      "source": [
        "from sklearn.preprocessing import MinMaxScaler\n",
        "scaler= MinMaxScaler()\n",
        "X_train=scaler.fit_transform(X_train)\n",
        "X_test=scaler.fit_transform(X_test)"
      ],
      "execution_count": null,
      "outputs": []
    },
    {
      "cell_type": "markdown",
      "metadata": {
        "id": "PHJwqFGX2Y_U"
      },
      "source": [
        "Evalution metrics"
      ]
    },
    {
      "cell_type": "code",
      "metadata": {
        "id": "XCsQNGTb2dzz"
      },
      "source": [
        "from sklearn import metrics\n",
        "def print_error(X_test, y_test, model_name):\n",
        "  prediction= model_name.predict(X_test)\n",
        "  print('MeanAbsoluteError:', metrics.mean_absolute_error(y_test, prediction))\n",
        "  print('MeanSquaredError:', metrics.mean_squared_error(y_test, prediction))\n",
        "  print('RootMeanSquareError:', np.sqrt(metrics.mean_squared_error(y_test, prediction)))"
      ],
      "execution_count": null,
      "outputs": []
    },
    {
      "cell_type": "markdown",
      "metadata": {
        "id": "IWNg9vU03IZ2"
      },
      "source": [
        "TRAINING Different Models."
      ]
    },
    {
      "cell_type": "code",
      "metadata": {
        "colab": {
          "base_uri": "https://localhost:8080/"
        },
        "id": "e-7Ygyl33FtS",
        "outputId": "4eecdd44-311c-4547-f8d5-20305900a97f"
      },
      "source": [
        "# linear Regression.\n",
        "from sklearn import linear_model\n",
        "linear_regression= linear_model.LinearRegression()\n",
        "linear_regression.fit(X_train, y_train)\n",
        "print_error(X_test,y_test, linear_regression)"
      ],
      "execution_count": null,
      "outputs": [
        {
          "output_type": "stream",
          "text": [
            "MeanAbsoluteError: 72.91956431726574\n",
            "MeanSquaredError: 29504.72301386604\n",
            "RootMeanSquareError: 171.76938904783367\n"
          ],
          "name": "stdout"
        }
      ]
    },
    {
      "cell_type": "code",
      "metadata": {
        "colab": {
          "base_uri": "https://localhost:8080/"
        },
        "id": "gU8n_MPR3V4t",
        "outputId": "06b4c48e-39c9-4bcf-a630-bd01b5845ddd"
      },
      "source": [
        "# Decision Tree Regressor.\n",
        "from sklearn.tree import DecisionTreeRegressor\n",
        "decision_tree=DecisionTreeRegressor()\n",
        "decision_tree.fit(X_train, y_train)\n",
        "print_error(X_test,y_test, decision_tree)"
      ],
      "execution_count": null,
      "outputs": [
        {
          "output_type": "stream",
          "text": [
            "MeanAbsoluteError: 46.18799107142858\n",
            "MeanSquaredError: 15335.11380580357\n",
            "RootMeanSquareError: 123.8350265708518\n"
          ],
          "name": "stdout"
        }
      ]
    },
    {
      "cell_type": "code",
      "metadata": {
        "colab": {
          "base_uri": "https://localhost:8080/"
        },
        "id": "sNFhooGy3YoS",
        "outputId": "98b57e70-6443-4d98-e90d-44f17eaa70a8"
      },
      "source": [
        "# Random forest Regressor\n",
        "from sklearn.ensemble import RandomForestRegressor\n",
        "n_estimators=200\n",
        "max_depth=25\n",
        "min_samples_split=15\n",
        "min_samples_leaf=2\n",
        "random_forest= RandomForestRegressor(n_estimators= n_estimators, max_depth=max_depth, min_samples_split=min_samples_split,\n",
        "                                     min_samples_leaf=min_samples_leaf)\n",
        "random_forest.fit(X_train, y_train)\n",
        "print_error(X_test,y_test, random_forest)"
      ],
      "execution_count": null,
      "outputs": [
        {
          "output_type": "stream",
          "text": [
            "/usr/local/lib/python3.7/dist-packages/ipykernel_launcher.py:9: DataConversionWarning: A column-vector y was passed when a 1d array was expected. Please change the shape of y to (n_samples,), for example using ravel().\n",
            "  if __name__ == '__main__':\n"
          ],
          "name": "stderr"
        },
        {
          "output_type": "stream",
          "text": [
            "MeanAbsoluteError: 52.900605076657335\n",
            "MeanSquaredError: 16742.42093409673\n",
            "RootMeanSquareError: 129.39250725639693\n"
          ],
          "name": "stdout"
        }
      ]
    },
    {
      "cell_type": "code",
      "metadata": {
        "colab": {
          "base_uri": "https://localhost:8080/"
        },
        "id": "qXIogAJy3hHa",
        "outputId": "e58eed70-3d29-460c-f3c8-4b973f3451d9"
      },
      "source": [
        "# Support Vector Regressor\n",
        "from sklearn.svm import SVR\n",
        "supportvector_regressor=SVR()\n",
        "supportvector_regressor.fit(X_train,y_train)\n",
        "print_error(X_test,y_test, supportvector_regressor)"
      ],
      "execution_count": null,
      "outputs": [
        {
          "output_type": "stream",
          "text": [
            "/usr/local/lib/python3.7/dist-packages/sklearn/utils/validation.py:760: DataConversionWarning: A column-vector y was passed when a 1d array was expected. Please change the shape of y to (n_samples, ), for example using ravel().\n",
            "  y = column_or_1d(y, warn=True)\n"
          ],
          "name": "stderr"
        },
        {
          "output_type": "stream",
          "text": [
            "MeanAbsoluteError: 82.20182190884609\n",
            "MeanSquaredError: 50742.08065006009\n",
            "RootMeanSquareError: 225.2600289666591\n"
          ],
          "name": "stdout"
        }
      ]
    },
    {
      "cell_type": "markdown",
      "metadata": {
        "id": "vJsJZhcr3sfN"
      },
      "source": [
        "Artificial NEURAL network"
      ]
    },
    {
      "cell_type": "code",
      "metadata": {
        "id": "waHAJtVe3vzh"
      },
      "source": [
        "import keras\n",
        "from keras.layers import  Dense\n",
        "ann=keras.models.Sequential([\n",
        "                             Dense(6, activation='relu',\n",
        "                                   input_shape= X_train.shape[1:]),\n",
        "                             Dense(6,activation='relu'),\n",
        "                             Dense(1)\n",
        "\n",
        "])"
      ],
      "execution_count": null,
      "outputs": []
    },
    {
      "cell_type": "code",
      "metadata": {
        "colab": {
          "base_uri": "https://localhost:8080/"
        },
        "id": "MzlZ-2Ae341t",
        "outputId": "20e09ae4-5aa0-42fc-af96-f82b1b2f6055"
      },
      "source": [
        "optimizer=keras.optimizers.Adam()\n",
        "loss=keras.losses.mean_squared_error\n",
        "ann.compile(optimizer=optimizer, loss=loss, metrics=[\"mean_squared_error\"])\n",
        "history=ann.fit(X_train,y_train, epochs=100)"
      ],
      "execution_count": null,
      "outputs": [
        {
          "output_type": "stream",
          "text": [
            "Epoch 1/100\n",
            "133/133 [==============================] - 14s 1ms/step - loss: 87999.0568 - mean_squared_error: 87999.0568\n",
            "Epoch 2/100\n",
            "133/133 [==============================] - 0s 1ms/step - loss: 93977.2655 - mean_squared_error: 93977.2655\n",
            "Epoch 3/100\n",
            "133/133 [==============================] - 0s 1ms/step - loss: 87725.3241 - mean_squared_error: 87725.3241\n",
            "Epoch 4/100\n",
            "133/133 [==============================] - 0s 1ms/step - loss: 78202.9721 - mean_squared_error: 78202.9721\n",
            "Epoch 5/100\n",
            "133/133 [==============================] - 0s 1ms/step - loss: 84766.8057 - mean_squared_error: 84766.8057\n",
            "Epoch 6/100\n",
            "133/133 [==============================] - 0s 1ms/step - loss: 75664.4449 - mean_squared_error: 75664.4449\n",
            "Epoch 7/100\n",
            "133/133 [==============================] - 0s 1ms/step - loss: 77682.1589 - mean_squared_error: 77682.1589\n",
            "Epoch 8/100\n",
            "133/133 [==============================] - 0s 1ms/step - loss: 73685.6550 - mean_squared_error: 73685.6550\n",
            "Epoch 9/100\n",
            "133/133 [==============================] - 0s 1ms/step - loss: 72596.9922 - mean_squared_error: 72596.9922\n",
            "Epoch 10/100\n",
            "133/133 [==============================] - 0s 1ms/step - loss: 65813.1004 - mean_squared_error: 65813.1004\n",
            "Epoch 11/100\n",
            "133/133 [==============================] - 0s 1ms/step - loss: 65923.6284 - mean_squared_error: 65923.6284\n",
            "Epoch 12/100\n",
            "133/133 [==============================] - 0s 1ms/step - loss: 61580.6980 - mean_squared_error: 61580.6980\n",
            "Epoch 13/100\n",
            "133/133 [==============================] - 0s 1ms/step - loss: 62644.0017 - mean_squared_error: 62644.0017\n",
            "Epoch 14/100\n",
            "133/133 [==============================] - 0s 1ms/step - loss: 63903.3505 - mean_squared_error: 63903.3505\n",
            "Epoch 15/100\n",
            "133/133 [==============================] - 0s 1ms/step - loss: 62343.1612 - mean_squared_error: 62343.1612\n",
            "Epoch 16/100\n",
            "133/133 [==============================] - 0s 1ms/step - loss: 57287.4931 - mean_squared_error: 57287.4931\n",
            "Epoch 17/100\n",
            "133/133 [==============================] - 0s 1ms/step - loss: 49692.8898 - mean_squared_error: 49692.8898\n",
            "Epoch 18/100\n",
            "133/133 [==============================] - 0s 1ms/step - loss: 43949.5153 - mean_squared_error: 43949.5153\n",
            "Epoch 19/100\n",
            "133/133 [==============================] - 0s 1ms/step - loss: 47673.7699 - mean_squared_error: 47673.7699\n",
            "Epoch 20/100\n",
            "133/133 [==============================] - 0s 1ms/step - loss: 42947.1958 - mean_squared_error: 42947.1958\n",
            "Epoch 21/100\n",
            "133/133 [==============================] - 0s 1ms/step - loss: 32908.7853 - mean_squared_error: 32908.7853\n",
            "Epoch 22/100\n",
            "133/133 [==============================] - 0s 1ms/step - loss: 36983.3085 - mean_squared_error: 36983.3085\n",
            "Epoch 23/100\n",
            "133/133 [==============================] - 0s 1ms/step - loss: 36516.7307 - mean_squared_error: 36516.7307\n",
            "Epoch 24/100\n",
            "133/133 [==============================] - 0s 1ms/step - loss: 30558.4392 - mean_squared_error: 30558.4392\n",
            "Epoch 25/100\n",
            "133/133 [==============================] - 0s 1ms/step - loss: 32327.8399 - mean_squared_error: 32327.8399\n",
            "Epoch 26/100\n",
            "133/133 [==============================] - 0s 1ms/step - loss: 30643.0002 - mean_squared_error: 30643.0002\n",
            "Epoch 27/100\n",
            "133/133 [==============================] - 0s 1ms/step - loss: 31254.8174 - mean_squared_error: 31254.8174\n",
            "Epoch 28/100\n",
            "133/133 [==============================] - 0s 1ms/step - loss: 24909.4313 - mean_squared_error: 24909.4313\n",
            "Epoch 29/100\n",
            "133/133 [==============================] - 0s 1ms/step - loss: 26443.0701 - mean_squared_error: 26443.0701\n",
            "Epoch 30/100\n",
            "133/133 [==============================] - 0s 1ms/step - loss: 31199.4607 - mean_squared_error: 31199.4607\n",
            "Epoch 31/100\n",
            "133/133 [==============================] - 0s 1ms/step - loss: 25657.1655 - mean_squared_error: 25657.1655\n",
            "Epoch 32/100\n",
            "133/133 [==============================] - 0s 1ms/step - loss: 24443.9868 - mean_squared_error: 24443.9868\n",
            "Epoch 33/100\n",
            "133/133 [==============================] - 0s 1ms/step - loss: 28253.7850 - mean_squared_error: 28253.7850\n",
            "Epoch 34/100\n",
            "133/133 [==============================] - 0s 1ms/step - loss: 24369.3441 - mean_squared_error: 24369.3441\n",
            "Epoch 35/100\n",
            "133/133 [==============================] - 0s 1ms/step - loss: 22311.1614 - mean_squared_error: 22311.1614\n",
            "Epoch 36/100\n",
            "133/133 [==============================] - 0s 1ms/step - loss: 25067.6406 - mean_squared_error: 25067.6406\n",
            "Epoch 37/100\n",
            "133/133 [==============================] - 0s 1ms/step - loss: 23170.8651 - mean_squared_error: 23170.8651\n",
            "Epoch 38/100\n",
            "133/133 [==============================] - 0s 1ms/step - loss: 20898.7390 - mean_squared_error: 20898.7390\n",
            "Epoch 39/100\n",
            "133/133 [==============================] - 0s 1ms/step - loss: 21698.9660 - mean_squared_error: 21698.9660\n",
            "Epoch 40/100\n",
            "133/133 [==============================] - 0s 1ms/step - loss: 24165.5377 - mean_squared_error: 24165.5377\n",
            "Epoch 41/100\n",
            "133/133 [==============================] - 0s 1ms/step - loss: 22299.2802 - mean_squared_error: 22299.2802\n",
            "Epoch 42/100\n",
            "133/133 [==============================] - 0s 1ms/step - loss: 22037.6517 - mean_squared_error: 22037.6517\n",
            "Epoch 43/100\n",
            "133/133 [==============================] - 0s 1ms/step - loss: 22192.5416 - mean_squared_error: 22192.5416\n",
            "Epoch 44/100\n",
            "133/133 [==============================] - 0s 1ms/step - loss: 22818.7111 - mean_squared_error: 22818.7111\n",
            "Epoch 45/100\n",
            "133/133 [==============================] - 0s 1ms/step - loss: 22743.9683 - mean_squared_error: 22743.9683\n",
            "Epoch 46/100\n",
            "133/133 [==============================] - 0s 1ms/step - loss: 19976.8526 - mean_squared_error: 19976.8526\n",
            "Epoch 47/100\n",
            "133/133 [==============================] - 0s 1ms/step - loss: 23491.5306 - mean_squared_error: 23491.5306\n",
            "Epoch 48/100\n",
            "133/133 [==============================] - 0s 1ms/step - loss: 20029.8911 - mean_squared_error: 20029.8911\n",
            "Epoch 49/100\n",
            "133/133 [==============================] - 0s 1ms/step - loss: 24009.9837 - mean_squared_error: 24009.9837\n",
            "Epoch 50/100\n",
            "133/133 [==============================] - 0s 1ms/step - loss: 20842.1125 - mean_squared_error: 20842.1125\n",
            "Epoch 51/100\n",
            "133/133 [==============================] - 0s 1ms/step - loss: 18930.2965 - mean_squared_error: 18930.2965\n",
            "Epoch 52/100\n",
            "133/133 [==============================] - 0s 1ms/step - loss: 20413.1712 - mean_squared_error: 20413.1712\n",
            "Epoch 53/100\n",
            "133/133 [==============================] - 0s 1ms/step - loss: 19718.5566 - mean_squared_error: 19718.5566\n",
            "Epoch 54/100\n",
            "133/133 [==============================] - 0s 1ms/step - loss: 18430.9507 - mean_squared_error: 18430.9507\n",
            "Epoch 55/100\n",
            "133/133 [==============================] - 0s 1ms/step - loss: 18593.3195 - mean_squared_error: 18593.3195\n",
            "Epoch 56/100\n",
            "133/133 [==============================] - 0s 1ms/step - loss: 19428.5407 - mean_squared_error: 19428.5407\n",
            "Epoch 57/100\n",
            "133/133 [==============================] - 0s 1ms/step - loss: 18126.6425 - mean_squared_error: 18126.6425\n",
            "Epoch 58/100\n",
            "133/133 [==============================] - 0s 1ms/step - loss: 19898.2340 - mean_squared_error: 19898.2340\n",
            "Epoch 59/100\n",
            "133/133 [==============================] - 0s 1ms/step - loss: 18811.6173 - mean_squared_error: 18811.6173\n",
            "Epoch 60/100\n",
            "133/133 [==============================] - 0s 1ms/step - loss: 18539.2702 - mean_squared_error: 18539.2702\n",
            "Epoch 61/100\n",
            "133/133 [==============================] - 0s 1ms/step - loss: 16676.0364 - mean_squared_error: 16676.0364\n",
            "Epoch 62/100\n",
            "133/133 [==============================] - 0s 1ms/step - loss: 17906.3350 - mean_squared_error: 17906.3350\n",
            "Epoch 63/100\n",
            "133/133 [==============================] - 0s 1ms/step - loss: 20467.2673 - mean_squared_error: 20467.2673\n",
            "Epoch 64/100\n",
            "133/133 [==============================] - 0s 1ms/step - loss: 16614.3049 - mean_squared_error: 16614.3049\n",
            "Epoch 65/100\n",
            "133/133 [==============================] - 0s 1ms/step - loss: 18146.4706 - mean_squared_error: 18146.4706\n",
            "Epoch 66/100\n",
            "133/133 [==============================] - 0s 1ms/step - loss: 17345.8327 - mean_squared_error: 17345.8327\n",
            "Epoch 67/100\n",
            "133/133 [==============================] - 0s 1ms/step - loss: 18181.1823 - mean_squared_error: 18181.1823\n",
            "Epoch 68/100\n",
            "133/133 [==============================] - 0s 1ms/step - loss: 15900.4086 - mean_squared_error: 15900.4086\n",
            "Epoch 69/100\n",
            "133/133 [==============================] - 0s 1ms/step - loss: 16048.5694 - mean_squared_error: 16048.5694\n",
            "Epoch 70/100\n",
            "133/133 [==============================] - 0s 1ms/step - loss: 19167.1621 - mean_squared_error: 19167.1621\n",
            "Epoch 71/100\n",
            "133/133 [==============================] - 0s 1ms/step - loss: 17535.7258 - mean_squared_error: 17535.7258\n",
            "Epoch 72/100\n",
            "133/133 [==============================] - 0s 1ms/step - loss: 18259.6032 - mean_squared_error: 18259.6032\n",
            "Epoch 73/100\n",
            "133/133 [==============================] - 0s 1ms/step - loss: 17890.0298 - mean_squared_error: 17890.0298\n",
            "Epoch 74/100\n",
            "133/133 [==============================] - 0s 1ms/step - loss: 17385.5956 - mean_squared_error: 17385.5956\n",
            "Epoch 75/100\n",
            "133/133 [==============================] - 0s 1ms/step - loss: 14995.3036 - mean_squared_error: 14995.3036\n",
            "Epoch 76/100\n",
            "133/133 [==============================] - 0s 1ms/step - loss: 17627.7211 - mean_squared_error: 17627.7211\n",
            "Epoch 77/100\n",
            "133/133 [==============================] - 0s 1ms/step - loss: 15634.6450 - mean_squared_error: 15634.6450\n",
            "Epoch 78/100\n",
            "133/133 [==============================] - 0s 1ms/step - loss: 15942.7685 - mean_squared_error: 15942.7685\n",
            "Epoch 79/100\n",
            "133/133 [==============================] - 0s 1ms/step - loss: 14471.9399 - mean_squared_error: 14471.9399\n",
            "Epoch 80/100\n",
            "133/133 [==============================] - 0s 1ms/step - loss: 15819.8300 - mean_squared_error: 15819.8300\n",
            "Epoch 81/100\n",
            "133/133 [==============================] - 0s 1ms/step - loss: 14984.4752 - mean_squared_error: 14984.4752\n",
            "Epoch 82/100\n",
            "133/133 [==============================] - 0s 1ms/step - loss: 14308.9935 - mean_squared_error: 14308.9935\n",
            "Epoch 83/100\n",
            "133/133 [==============================] - 0s 1ms/step - loss: 15806.4044 - mean_squared_error: 15806.4044\n",
            "Epoch 84/100\n",
            "133/133 [==============================] - 0s 1ms/step - loss: 16155.8735 - mean_squared_error: 16155.8735\n",
            "Epoch 85/100\n",
            "133/133 [==============================] - 0s 1ms/step - loss: 16008.2308 - mean_squared_error: 16008.2308\n",
            "Epoch 86/100\n",
            "133/133 [==============================] - 0s 1ms/step - loss: 15533.7334 - mean_squared_error: 15533.7334\n",
            "Epoch 87/100\n",
            "133/133 [==============================] - 0s 1ms/step - loss: 14266.6008 - mean_squared_error: 14266.6008\n",
            "Epoch 88/100\n",
            "133/133 [==============================] - 0s 1ms/step - loss: 14267.2340 - mean_squared_error: 14267.2340\n",
            "Epoch 89/100\n",
            "133/133 [==============================] - 0s 1ms/step - loss: 15322.0821 - mean_squared_error: 15322.0821\n",
            "Epoch 90/100\n",
            "133/133 [==============================] - 0s 1ms/step - loss: 13293.6387 - mean_squared_error: 13293.6387\n",
            "Epoch 91/100\n",
            "133/133 [==============================] - 0s 1ms/step - loss: 14165.1682 - mean_squared_error: 14165.1682\n",
            "Epoch 92/100\n",
            "133/133 [==============================] - 0s 1ms/step - loss: 13426.8846 - mean_squared_error: 13426.8846\n",
            "Epoch 93/100\n",
            "133/133 [==============================] - 0s 1ms/step - loss: 14654.0882 - mean_squared_error: 14654.0882\n",
            "Epoch 94/100\n",
            "133/133 [==============================] - 0s 1ms/step - loss: 15045.8956 - mean_squared_error: 15045.8956\n",
            "Epoch 95/100\n",
            "133/133 [==============================] - 0s 1ms/step - loss: 15839.0553 - mean_squared_error: 15839.0553\n",
            "Epoch 96/100\n",
            "133/133 [==============================] - 0s 1ms/step - loss: 13724.2331 - mean_squared_error: 13724.2331\n",
            "Epoch 97/100\n",
            "133/133 [==============================] - 0s 1ms/step - loss: 14924.3475 - mean_squared_error: 14924.3475\n",
            "Epoch 98/100\n",
            "133/133 [==============================] - 0s 1ms/step - loss: 12456.6974 - mean_squared_error: 12456.6974\n",
            "Epoch 99/100\n",
            "133/133 [==============================] - 0s 1ms/step - loss: 13769.6079 - mean_squared_error: 13769.6079\n",
            "Epoch 100/100\n",
            "133/133 [==============================] - 0s 1ms/step - loss: 14515.6912 - mean_squared_error: 14515.6912\n"
          ],
          "name": "stdout"
        }
      ]
    },
    {
      "cell_type": "code",
      "metadata": {
        "colab": {
          "base_uri": "https://localhost:8080/"
        },
        "id": "2xFswoiA4IX5",
        "outputId": "dd5ecc89-d00f-497a-e26d-360d82c5e726"
      },
      "source": [
        "ann.summary()\n",
        "print_error(X_test,y_test, ann)"
      ],
      "execution_count": null,
      "outputs": [
        {
          "output_type": "stream",
          "text": [
            "Model: \"sequential\"\n",
            "_________________________________________________________________\n",
            "Layer (type)                 Output Shape              Param #   \n",
            "=================================================================\n",
            "dense (Dense)                (None, 6)                 48        \n",
            "_________________________________________________________________\n",
            "dense_1 (Dense)              (None, 6)                 42        \n",
            "_________________________________________________________________\n",
            "dense_2 (Dense)              (None, 1)                 7         \n",
            "=================================================================\n",
            "Total params: 97\n",
            "Trainable params: 97\n",
            "Non-trainable params: 0\n",
            "_________________________________________________________________\n",
            "MeanAbsoluteError: 73.54334578523678\n",
            "MeanSquaredError: 26753.8284060205\n",
            "RootMeanSquareError: 163.56597569794428\n"
          ],
          "name": "stdout"
        }
      ]
    },
    {
      "cell_type": "markdown",
      "metadata": {
        "id": "woEya3704h1d"
      },
      "source": [
        "Saving scikit and keras models"
      ]
    },
    {
      "cell_type": "code",
      "metadata": {
        "colab": {
          "base_uri": "https://localhost:8080/"
        },
        "id": "PMOe6kVp4ihT",
        "outputId": "4844c746-2c2c-41b6-ac18-c9126261b841"
      },
      "source": [
        "# Saving Scikit models\n",
        "import joblib\n",
        "joblib.dump(linear_regression, \"Capstone_Project.pkl\")"
      ],
      "execution_count": null,
      "outputs": [
        {
          "output_type": "execute_result",
          "data": {
            "text/plain": [
              "['Capstone_Project.pkl']"
            ]
          },
          "metadata": {
            "tags": []
          },
          "execution_count": 62
        }
      ]
    },
    {
      "cell_type": "code",
      "metadata": {
        "id": "nqLfr2324mW8"
      },
      "source": [
        "#  Saving Keras ANN\n",
        "ann.save('ann_Capstone_Project.h5')"
      ],
      "execution_count": null,
      "outputs": []
    },
    {
      "cell_type": "markdown",
      "metadata": {
        "id": "jIYhnH6q8sV5"
      },
      "source": [
        "# now fetching new test data set and predicting it\n"
      ]
    },
    {
      "cell_type": "code",
      "metadata": {
        "colab": {
          "resources": {
            "http://localhost:8080/nbextensions/google.colab/files.js": {
              "data": "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",
              "ok": true,
              "headers": [
                [
                  "content-type",
                  "application/javascript"
                ]
              ],
              "status": 200,
              "status_text": ""
            }
          },
          "base_uri": "https://localhost:8080/",
          "height": 73
        },
        "id": "upSug0dM8zqu",
        "outputId": "e1373082-aa97-4e9e-bc7a-961e431a3bf7"
      },
      "source": [
        "from google.colab import files\n",
        "uploaded= files.upload()"
      ],
      "execution_count": null,
      "outputs": [
        {
          "output_type": "display_data",
          "data": {
            "text/html": [
              "\n",
              "     <input type=\"file\" id=\"files-e8a94103-0a27-4dfd-983b-748bacbb4c89\" name=\"files[]\" multiple disabled\n",
              "        style=\"border:none\" />\n",
              "     <output id=\"result-e8a94103-0a27-4dfd-983b-748bacbb4c89\">\n",
              "      Upload widget is only available when the cell has been executed in the\n",
              "      current browser session. Please rerun this cell to enable.\n",
              "      </output>\n",
              "      <script src=\"/nbextensions/google.colab/files.js\"></script> "
            ],
            "text/plain": [
              "<IPython.core.display.HTML object>"
            ]
          },
          "metadata": {
            "tags": []
          }
        },
        {
          "output_type": "stream",
          "text": [
            "Saving Test_Data.csv to Test_Data.csv\n"
          ],
          "name": "stdout"
        }
      ]
    },
    {
      "cell_type": "code",
      "metadata": {
        "id": "43SAzUXk958Q"
      },
      "source": [
        "new_test_data= pd.read_csv(\"Test_Data.csv\")"
      ],
      "execution_count": null,
      "outputs": []
    },
    {
      "cell_type": "code",
      "metadata": {
        "colab": {
          "base_uri": "https://localhost:8080/"
        },
        "id": "LnLWznNd-Z9w",
        "outputId": "244bc803-acdb-4858-d640-dc5e520b45dd"
      },
      "source": [
        "print(new_test_data.head())\n",
        "new_test_data.shape"
      ],
      "execution_count": null,
      "outputs": [
        {
          "output_type": "stream",
          "text": [
            "         date    campaign    adgroup  ... impressions  clicks  conversions\n",
            "0  01-03-2021  campaign 1  adgroup 1  ...         121      49            1\n",
            "1  01-03-2021  campaign 1  adgroup 3  ...          22      12            0\n",
            "2  01-03-2021  campaign 1  adgroup 4  ...           5       3            0\n",
            "3  01-03-2021  campaign 1  adgroup 2  ...           2       1            0\n",
            "4  01-03-2021  campaign 1  adgroup 2  ...           3       1            0\n",
            "\n",
            "[5 rows x 8 columns]\n"
          ],
          "name": "stdout"
        },
        {
          "output_type": "execute_result",
          "data": {
            "text/plain": [
              "(318, 8)"
            ]
          },
          "metadata": {
            "tags": []
          },
          "execution_count": 42
        }
      ]
    },
    {
      "cell_type": "code",
      "metadata": {
        "id": "UiCuf2PaOD9o"
      },
      "source": [
        "new_test_data['impressions']=pd.to_numeric(new_test_data['impressions'])\n",
        "new_test_data['clicks']=pd.to_numeric(new_test_data['clicks'])\n",
        "new_test_data['cost']=pd.to_numeric(new_test_data['cost'])\n",
        "new_test_data['conversions']=pd.to_numeric(new_test_data['conversions'])\n"
      ],
      "execution_count": null,
      "outputs": []
    },
    {
      "cell_type": "code",
      "metadata": {
        "colab": {
          "base_uri": "https://localhost:8080/"
        },
        "id": "GbOMA-OKPj7Q",
        "outputId": "97b3c1fa-af34-4220-bfab-c23ae63ade96"
      },
      "source": [
        "new_test_data.shape"
      ],
      "execution_count": null,
      "outputs": [
        {
          "output_type": "execute_result",
          "data": {
            "text/plain": [
              "(318, 8)"
            ]
          },
          "metadata": {
            "tags": []
          },
          "execution_count": 44
        }
      ]
    },
    {
      "cell_type": "code",
      "metadata": {
        "colab": {
          "base_uri": "https://localhost:8080/",
          "height": 205
        },
        "id": "6NhD8c40OIiE",
        "outputId": "de0a270b-c26f-49d0-d71c-adfb44659da0"
      },
      "source": [
        "from sklearn.preprocessing import LabelEncoder\n",
        "new_test_data['date']=LabelEncoder().fit_transform(new_test_data['date'])\n",
        "new_test_data['adgroup']=LabelEncoder().fit_transform(new_test_data['adgroup'])\n",
        "new_test_data['campaign']=LabelEncoder().fit_transform(new_test_data['campaign'])\n",
        "new_test_data['ad']=LabelEncoder().fit_transform(new_test_data['ad'])\n",
        "new_test_data.head()"
      ],
      "execution_count": null,
      "outputs": [
        {
          "output_type": "execute_result",
          "data": {
            "text/html": [
              "<div>\n",
              "<style scoped>\n",
              "    .dataframe tbody tr th:only-of-type {\n",
              "        vertical-align: middle;\n",
              "    }\n",
              "\n",
              "    .dataframe tbody tr th {\n",
              "        vertical-align: top;\n",
              "    }\n",
              "\n",
              "    .dataframe thead th {\n",
              "        text-align: right;\n",
              "    }\n",
              "</style>\n",
              "<table border=\"1\" class=\"dataframe\">\n",
              "  <thead>\n",
              "    <tr style=\"text-align: right;\">\n",
              "      <th></th>\n",
              "      <th>date</th>\n",
              "      <th>campaign</th>\n",
              "      <th>adgroup</th>\n",
              "      <th>ad</th>\n",
              "      <th>cost</th>\n",
              "      <th>impressions</th>\n",
              "      <th>clicks</th>\n",
              "      <th>conversions</th>\n",
              "    </tr>\n",
              "  </thead>\n",
              "  <tbody>\n",
              "    <tr>\n",
              "      <th>0</th>\n",
              "      <td>0</td>\n",
              "      <td>0</td>\n",
              "      <td>0</td>\n",
              "      <td>0</td>\n",
              "      <td>0.58</td>\n",
              "      <td>121</td>\n",
              "      <td>49</td>\n",
              "      <td>1</td>\n",
              "    </tr>\n",
              "    <tr>\n",
              "      <th>1</th>\n",
              "      <td>0</td>\n",
              "      <td>0</td>\n",
              "      <td>2</td>\n",
              "      <td>0</td>\n",
              "      <td>0.17</td>\n",
              "      <td>22</td>\n",
              "      <td>12</td>\n",
              "      <td>0</td>\n",
              "    </tr>\n",
              "    <tr>\n",
              "      <th>2</th>\n",
              "      <td>0</td>\n",
              "      <td>0</td>\n",
              "      <td>3</td>\n",
              "      <td>0</td>\n",
              "      <td>0.05</td>\n",
              "      <td>5</td>\n",
              "      <td>3</td>\n",
              "      <td>0</td>\n",
              "    </tr>\n",
              "    <tr>\n",
              "      <th>3</th>\n",
              "      <td>0</td>\n",
              "      <td>0</td>\n",
              "      <td>1</td>\n",
              "      <td>0</td>\n",
              "      <td>0.01</td>\n",
              "      <td>2</td>\n",
              "      <td>1</td>\n",
              "      <td>0</td>\n",
              "    </tr>\n",
              "    <tr>\n",
              "      <th>4</th>\n",
              "      <td>0</td>\n",
              "      <td>0</td>\n",
              "      <td>1</td>\n",
              "      <td>2</td>\n",
              "      <td>0.01</td>\n",
              "      <td>3</td>\n",
              "      <td>1</td>\n",
              "      <td>0</td>\n",
              "    </tr>\n",
              "  </tbody>\n",
              "</table>\n",
              "</div>"
            ],
            "text/plain": [
              "   date  campaign  adgroup  ad  cost  impressions  clicks  conversions\n",
              "0     0         0        0   0  0.58          121      49            1\n",
              "1     0         0        2   0  0.17           22      12            0\n",
              "2     0         0        3   0  0.05            5       3            0\n",
              "3     0         0        1   0  0.01            2       1            0\n",
              "4     0         0        1   2  0.01            3       1            0"
            ]
          },
          "metadata": {
            "tags": []
          },
          "execution_count": 45
        }
      ]
    },
    {
      "cell_type": "code",
      "metadata": {
        "colab": {
          "base_uri": "https://localhost:8080/",
          "height": 205
        },
        "id": "u_Ds5d-gSPrT",
        "outputId": "ba7703a1-95f4-4032-c497-d86b43070c96"
      },
      "source": [
        "new_test_data=new_test_data.drop([\"campaign\"],axis=1)\n",
        "new_test_data.head()"
      ],
      "execution_count": null,
      "outputs": [
        {
          "output_type": "execute_result",
          "data": {
            "text/html": [
              "<div>\n",
              "<style scoped>\n",
              "    .dataframe tbody tr th:only-of-type {\n",
              "        vertical-align: middle;\n",
              "    }\n",
              "\n",
              "    .dataframe tbody tr th {\n",
              "        vertical-align: top;\n",
              "    }\n",
              "\n",
              "    .dataframe thead th {\n",
              "        text-align: right;\n",
              "    }\n",
              "</style>\n",
              "<table border=\"1\" class=\"dataframe\">\n",
              "  <thead>\n",
              "    <tr style=\"text-align: right;\">\n",
              "      <th></th>\n",
              "      <th>date</th>\n",
              "      <th>adgroup</th>\n",
              "      <th>ad</th>\n",
              "      <th>cost</th>\n",
              "      <th>impressions</th>\n",
              "      <th>clicks</th>\n",
              "      <th>conversions</th>\n",
              "    </tr>\n",
              "  </thead>\n",
              "  <tbody>\n",
              "    <tr>\n",
              "      <th>0</th>\n",
              "      <td>0</td>\n",
              "      <td>0</td>\n",
              "      <td>0</td>\n",
              "      <td>0.58</td>\n",
              "      <td>121</td>\n",
              "      <td>49</td>\n",
              "      <td>1</td>\n",
              "    </tr>\n",
              "    <tr>\n",
              "      <th>1</th>\n",
              "      <td>0</td>\n",
              "      <td>2</td>\n",
              "      <td>0</td>\n",
              "      <td>0.17</td>\n",
              "      <td>22</td>\n",
              "      <td>12</td>\n",
              "      <td>0</td>\n",
              "    </tr>\n",
              "    <tr>\n",
              "      <th>2</th>\n",
              "      <td>0</td>\n",
              "      <td>3</td>\n",
              "      <td>0</td>\n",
              "      <td>0.05</td>\n",
              "      <td>5</td>\n",
              "      <td>3</td>\n",
              "      <td>0</td>\n",
              "    </tr>\n",
              "    <tr>\n",
              "      <th>3</th>\n",
              "      <td>0</td>\n",
              "      <td>1</td>\n",
              "      <td>0</td>\n",
              "      <td>0.01</td>\n",
              "      <td>2</td>\n",
              "      <td>1</td>\n",
              "      <td>0</td>\n",
              "    </tr>\n",
              "    <tr>\n",
              "      <th>4</th>\n",
              "      <td>0</td>\n",
              "      <td>1</td>\n",
              "      <td>2</td>\n",
              "      <td>0.01</td>\n",
              "      <td>3</td>\n",
              "      <td>1</td>\n",
              "      <td>0</td>\n",
              "    </tr>\n",
              "  </tbody>\n",
              "</table>\n",
              "</div>"
            ],
            "text/plain": [
              "   date  adgroup  ad  cost  impressions  clicks  conversions\n",
              "0     0        0   0  0.58          121      49            1\n",
              "1     0        2   0  0.17           22      12            0\n",
              "2     0        3   0  0.05            5       3            0\n",
              "3     0        1   0  0.01            2       1            0\n",
              "4     0        1   2  0.01            3       1            0"
            ]
          },
          "metadata": {
            "tags": []
          },
          "execution_count": 46
        }
      ]
    },
    {
      "cell_type": "code",
      "metadata": {
        "id": "GIfCW5RkV9z2"
      },
      "source": [
        "from sklearn.preprocessing import MinMaxScaler\n",
        "scaler= MinMaxScaler()\n",
        "new_test_data=scaler.fit_transform(new_test_data)"
      ],
      "execution_count": null,
      "outputs": []
    },
    {
      "cell_type": "code",
      "metadata": {
        "id": "fHsoR4WHXDOq"
      },
      "source": [
        "target= decision_tree.predict(new_test_data)"
      ],
      "execution_count": null,
      "outputs": []
    },
    {
      "cell_type": "code",
      "metadata": {
        "colab": {
          "base_uri": "https://localhost:8080/",
          "height": 17
        },
        "id": "8923rQrBdTP8",
        "outputId": "f8f5514b-1f4f-4bc1-9642-acecec77311a"
      },
      "source": [
        "# To create Dataframe of predicted value with particular respective index\n",
        "res = pd.DataFrame(target) #preditcions are nothing but the final predictions of your model on input features of your new unseen test data\n",
        "# res.index = new_test_data.index # its important for comparison. Here \"test_new\" is your new test dataset\n",
        "res.columns = [\"revenue\"]\n",
        "\n",
        "# To download the csv file locally\n",
        "from google.colab import files\n",
        "res.to_csv('new_test_data.csv', index=False)         \n",
        "files.download('new_test_data.csv')\n"
      ],
      "execution_count": null,
      "outputs": [
        {
          "output_type": "display_data",
          "data": {
            "application/javascript": [
              "\n",
              "    async function download(id, filename, size) {\n",
              "      if (!google.colab.kernel.accessAllowed) {\n",
              "        return;\n",
              "      }\n",
              "      const div = document.createElement('div');\n",
              "      const label = document.createElement('label');\n",
              "      label.textContent = `Downloading \"${filename}\": `;\n",
              "      div.appendChild(label);\n",
              "      const progress = document.createElement('progress');\n",
              "      progress.max = size;\n",
              "      div.appendChild(progress);\n",
              "      document.body.appendChild(div);\n",
              "\n",
              "      const buffers = [];\n",
              "      let downloaded = 0;\n",
              "\n",
              "      const channel = await google.colab.kernel.comms.open(id);\n",
              "      // Send a message to notify the kernel that we're ready.\n",
              "      channel.send({})\n",
              "\n",
              "      for await (const message of channel.messages) {\n",
              "        // Send a message to notify the kernel that we're ready.\n",
              "        channel.send({})\n",
              "        if (message.buffers) {\n",
              "          for (const buffer of message.buffers) {\n",
              "            buffers.push(buffer);\n",
              "            downloaded += buffer.byteLength;\n",
              "            progress.value = downloaded;\n",
              "          }\n",
              "        }\n",
              "      }\n",
              "      const blob = new Blob(buffers, {type: 'application/binary'});\n",
              "      const a = document.createElement('a');\n",
              "      a.href = window.URL.createObjectURL(blob);\n",
              "      a.download = filename;\n",
              "      div.appendChild(a);\n",
              "      a.click();\n",
              "      div.remove();\n",
              "    }\n",
              "  "
            ],
            "text/plain": [
              "<IPython.core.display.Javascript object>"
            ]
          },
          "metadata": {
            "tags": []
          }
        },
        {
          "output_type": "display_data",
          "data": {
            "application/javascript": [
              "download(\"download_0dde0427-073b-48ed-b7da-13ad96cf79a9\", \"new_test_data.csv\", 1527)"
            ],
            "text/plain": [
              "<IPython.core.display.Javascript object>"
            ]
          },
          "metadata": {
            "tags": []
          }
        }
      ]
    },
    {
      "cell_type": "code",
      "metadata": {
        "id": "tuiOGlhqXWdi"
      },
      "source": [
        ""
      ],
      "execution_count": null,
      "outputs": []
    }
  ]
}