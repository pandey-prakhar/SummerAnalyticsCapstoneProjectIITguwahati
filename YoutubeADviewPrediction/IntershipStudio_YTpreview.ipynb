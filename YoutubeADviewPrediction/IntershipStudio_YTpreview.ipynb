{
  "nbformat": 4,
  "nbformat_minor": 0,
  "metadata": {
    "colab": {
      "name": "IntershipStudio_YTpreview.ipynb",
      "provenance": [],
      "collapsed_sections": []
    },
    "kernelspec": {
      "name": "python3",
      "display_name": "Python 3"
    },
    "language_info": {
      "name": "python"
    }
  },
  "cells": [
    {
      "cell_type": "markdown",
      "metadata": {
        "id": "MkvlGOIL04OW"
      },
      "source": [
        "# YouTube Addview prediction."
      ]
    },
    {
      "cell_type": "code",
      "metadata": {
        "id": "YVM67pm0uU-e"
      },
      "source": [
        "import numpy as np\n",
        "import pandas as pd\n",
        "import matplotlib.cm as cm\n",
        "import matplotlib.pyplot as plt\n",
        "% matplotlib inline\n"
      ],
      "execution_count": 2,
      "outputs": []
    },
    {
      "cell_type": "markdown",
      "metadata": {
        "id": "s_nroP7S02dY"
      },
      "source": [
        "\n",
        "importing data\n"
      ]
    },
    {
      "cell_type": "code",
      "metadata": {
        "colab": {
          "resources": {
            "http://localhost:8080/nbextensions/google.colab/files.js": {
              "data": "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",
              "ok": true,
              "headers": [
                [
                  "content-type",
                  "application/javascript"
                ]
              ],
              "status": 200,
              "status_text": ""
            }
          },
          "base_uri": "https://localhost:8080/",
          "height": 73
        },
        "id": "zPTh8mWX1xsU",
        "outputId": "b0ea06c2-1140-4dab-eb98-f0620f9d5a1b"
      },
      "source": [
        "from google.colab import files\n",
        "uploaded= files.upload()"
      ],
      "execution_count": 3,
      "outputs": [
        {
          "output_type": "display_data",
          "data": {
            "text/html": [
              "\n",
              "     <input type=\"file\" id=\"files-c38786b7-4612-4fb8-b8db-edfa76d98132\" name=\"files[]\" multiple disabled\n",
              "        style=\"border:none\" />\n",
              "     <output id=\"result-c38786b7-4612-4fb8-b8db-edfa76d98132\">\n",
              "      Upload widget is only available when the cell has been executed in the\n",
              "      current browser session. Please rerun this cell to enable.\n",
              "      </output>\n",
              "      <script src=\"/nbextensions/google.colab/files.js\"></script> "
            ],
            "text/plain": [
              "<IPython.core.display.HTML object>"
            ]
          },
          "metadata": {
            "tags": []
          }
        },
        {
          "output_type": "stream",
          "text": [
            "Saving train.csv to train.csv\n"
          ],
          "name": "stdout"
        }
      ]
    },
    {
      "cell_type": "code",
      "metadata": {
        "colab": {
          "base_uri": "https://localhost:8080/"
        },
        "id": "c4HFkoQf2WJr",
        "outputId": "6f93e2a6-fbc0-46ed-df75-7238d05fb37d"
      },
      "source": [
        "data_train= pd.read_csv('train.csv')\n",
        "print(data_train.head())\n",
        "data_train.shape"
      ],
      "execution_count": 41,
      "outputs": [
        {
          "output_type": "stream",
          "text": [
            "       vidid  adview    views likes  ... comment   published duration category\n",
            "0  VID_18655      40  1031602  8523  ...    1095  2016-09-14  PT7M37S        F\n",
            "1  VID_14135       2     1707    56  ...       6  2016-10-01  PT9M30S        D\n",
            "2   VID_2187       1     2023    25  ...       2  2016-07-02  PT2M16S        C\n",
            "3  VID_23096       6   620860   777  ...     153  2016-07-27  PT4M22S        H\n",
            "4  VID_10175       1      666     1  ...       0  2016-06-29    PT31S        D\n",
            "\n",
            "[5 rows x 9 columns]\n"
          ],
          "name": "stdout"
        },
        {
          "output_type": "execute_result",
          "data": {
            "text/plain": [
              "(14999, 9)"
            ]
          },
          "metadata": {
            "tags": []
          },
          "execution_count": 41
        }
      ]
    },
    {
      "cell_type": "markdown",
      "metadata": {
        "id": "pgId8Jgw3J6z"
      },
      "source": [
        "Assigning each category a number for Category feature."
      ]
    },
    {
      "cell_type": "code",
      "metadata": {
        "colab": {
          "base_uri": "https://localhost:8080/"
        },
        "id": "tSvAif79414J",
        "outputId": "111ae332-476b-4452-9fa3-a78b9c866fe0"
      },
      "source": [
        "category={'A':1,'B':2,'C':3,'D':4,'E':5,'F':6,'G':7,'H':8}\n",
        "\n",
        "data_train[\"category\"]=data_train[\"category\"].map(category)\n",
        "data_train.head"
      ],
      "execution_count": 42,
      "outputs": [
        {
          "output_type": "execute_result",
          "data": {
            "text/plain": [
              "<bound method NDFrame.head of            vidid  adview    views likes  ... comment   published duration category\n",
              "0      VID_18655      40  1031602  8523  ...    1095  2016-09-14  PT7M37S        6\n",
              "1      VID_14135       2     1707    56  ...       6  2016-10-01  PT9M30S        4\n",
              "2       VID_2187       1     2023    25  ...       2  2016-07-02  PT2M16S        3\n",
              "3      VID_23096       6   620860   777  ...     153  2016-07-27  PT4M22S        8\n",
              "4      VID_10175       1      666     1  ...       0  2016-06-29    PT31S        4\n",
              "...          ...     ...      ...   ...  ...     ...         ...      ...      ...\n",
              "14994     VID_31       2   525949  1137  ...      86  2015-05-18  PT6M10S        1\n",
              "14995   VID_5861       1   665673  3849  ...     569  2015-10-20  PT3M56S        4\n",
              "14996    VID_805       4     3479    16  ...       1  2013-08-23  PT3M13S        2\n",
              "14997  VID_19843       1      963     0  ...       0  2010-10-02    PT26S        7\n",
              "14998   VID_8534       1    15212    22  ...       4  2016-02-19   PT1M1S        4\n",
              "\n",
              "[14999 rows x 9 columns]>"
            ]
          },
          "metadata": {
            "tags": []
          },
          "execution_count": 42
        }
      ]
    },
    {
      "cell_type": "markdown",
      "metadata": {
        "id": "jERyJDzsMZEe"
      },
      "source": [
        "removing character \"F\" present in data."
      ]
    },
    {
      "cell_type": "code",
      "metadata": {
        "id": "JdrmkimeIOLE"
      },
      "source": [
        "data_train=data_train[data_train.views!='F']\n",
        "data_train=data_train[data_train.likes!='F']\n",
        "data_train=data_train[data_train.dislikes!='F']\n",
        "data_train=data_train[data_train.comment!='F']\n"
      ],
      "execution_count": 43,
      "outputs": []
    },
    {
      "cell_type": "markdown",
      "metadata": {
        "id": "Ga84HNS_OvFd"
      },
      "source": [
        "converting values to integers for views,likes,comments, dislikes and adview"
      ]
    },
    {
      "cell_type": "code",
      "metadata": {
        "id": "SyBPsHPlP3Ja"
      },
      "source": [
        "data_train['views']=pd.to_numeric(data_train['views'])\n",
        "data_train['comment']=pd.to_numeric(data_train['comment'])\n",
        "data_train['likes']=pd.to_numeric(data_train['likes'])\n",
        "data_train['dislikes']=pd.to_numeric(data_train['dislikes'])\n",
        "data_train['adview']=pd.to_numeric(data_train['adview'])"
      ],
      "execution_count": 44,
      "outputs": []
    },
    {
      "cell_type": "code",
      "metadata": {
        "id": "-hRO8kdIQVwj"
      },
      "source": [
        "\n",
        "column_vidid=data_train['vidid']\n"
      ],
      "execution_count": 45,
      "outputs": []
    },
    {
      "cell_type": "markdown",
      "metadata": {
        "id": "iK2yOa9kSqju"
      },
      "source": [
        "Encoding features like Category, Duration, Vidid"
      ]
    },
    {
      "cell_type": "code",
      "metadata": {
        "colab": {
          "base_uri": "https://localhost:8080/",
          "height": 205
        },
        "id": "gZOvBSGbS3e1",
        "outputId": "df648a80-a2c7-4a94-f808-67e3a51e8712"
      },
      "source": [
        "from sklearn.preprocessing import LabelEncoder\n",
        "data_train['duration']=LabelEncoder().fit_transform(data_train['duration'])\n",
        "data_train['vidid']=LabelEncoder().fit_transform(data_train['vidid'])\n",
        "data_train['published']=LabelEncoder().fit_transform(data_train['published'])\n",
        "data_train.head()"
      ],
      "execution_count": 46,
      "outputs": [
        {
          "output_type": "execute_result",
          "data": {
            "text/html": [
              "<div>\n",
              "<style scoped>\n",
              "    .dataframe tbody tr th:only-of-type {\n",
              "        vertical-align: middle;\n",
              "    }\n",
              "\n",
              "    .dataframe tbody tr th {\n",
              "        vertical-align: top;\n",
              "    }\n",
              "\n",
              "    .dataframe thead th {\n",
              "        text-align: right;\n",
              "    }\n",
              "</style>\n",
              "<table border=\"1\" class=\"dataframe\">\n",
              "  <thead>\n",
              "    <tr style=\"text-align: right;\">\n",
              "      <th></th>\n",
              "      <th>vidid</th>\n",
              "      <th>adview</th>\n",
              "      <th>views</th>\n",
              "      <th>likes</th>\n",
              "      <th>dislikes</th>\n",
              "      <th>comment</th>\n",
              "      <th>published</th>\n",
              "      <th>duration</th>\n",
              "      <th>category</th>\n",
              "    </tr>\n",
              "  </thead>\n",
              "  <tbody>\n",
              "    <tr>\n",
              "      <th>0</th>\n",
              "      <td>5912</td>\n",
              "      <td>40</td>\n",
              "      <td>1031602</td>\n",
              "      <td>8523</td>\n",
              "      <td>363</td>\n",
              "      <td>1095</td>\n",
              "      <td>2168</td>\n",
              "      <td>2925</td>\n",
              "      <td>6</td>\n",
              "    </tr>\n",
              "    <tr>\n",
              "      <th>1</th>\n",
              "      <td>2741</td>\n",
              "      <td>2</td>\n",
              "      <td>1707</td>\n",
              "      <td>56</td>\n",
              "      <td>2</td>\n",
              "      <td>6</td>\n",
              "      <td>2185</td>\n",
              "      <td>3040</td>\n",
              "      <td>4</td>\n",
              "    </tr>\n",
              "    <tr>\n",
              "      <th>2</th>\n",
              "      <td>8138</td>\n",
              "      <td>1</td>\n",
              "      <td>2023</td>\n",
              "      <td>25</td>\n",
              "      <td>0</td>\n",
              "      <td>2</td>\n",
              "      <td>2094</td>\n",
              "      <td>1863</td>\n",
              "      <td>3</td>\n",
              "    </tr>\n",
              "    <tr>\n",
              "      <th>3</th>\n",
              "      <td>9005</td>\n",
              "      <td>6</td>\n",
              "      <td>620860</td>\n",
              "      <td>777</td>\n",
              "      <td>161</td>\n",
              "      <td>153</td>\n",
              "      <td>2119</td>\n",
              "      <td>2546</td>\n",
              "      <td>8</td>\n",
              "    </tr>\n",
              "    <tr>\n",
              "      <th>4</th>\n",
              "      <td>122</td>\n",
              "      <td>1</td>\n",
              "      <td>666</td>\n",
              "      <td>1</td>\n",
              "      <td>0</td>\n",
              "      <td>0</td>\n",
              "      <td>2091</td>\n",
              "      <td>1963</td>\n",
              "      <td>4</td>\n",
              "    </tr>\n",
              "  </tbody>\n",
              "</table>\n",
              "</div>"
            ],
            "text/plain": [
              "   vidid  adview    views  likes  ...  comment  published  duration  category\n",
              "0   5912      40  1031602   8523  ...     1095       2168      2925         6\n",
              "1   2741       2     1707     56  ...        6       2185      3040         4\n",
              "2   8138       1     2023     25  ...        2       2094      1863         3\n",
              "3   9005       6   620860    777  ...      153       2119      2546         8\n",
              "4    122       1      666      1  ...        0       2091      1963         4\n",
              "\n",
              "[5 rows x 9 columns]"
            ]
          },
          "metadata": {
            "tags": []
          },
          "execution_count": 46
        }
      ]
    },
    {
      "cell_type": "markdown",
      "metadata": {
        "id": "CdOGSVEaWAb6"
      },
      "source": [
        "converting time in sec for duration"
      ]
    },
    {
      "cell_type": "code",
      "metadata": {
        "id": "AyiA8JLcWF-T"
      },
      "source": [
        "import datetime\n",
        "import time"
      ],
      "execution_count": 47,
      "outputs": []
    },
    {
      "cell_type": "code",
      "metadata": {
        "id": "q_sgEx-UZ0Md"
      },
      "source": [
        "def checki(x):\n",
        "  y=x[2:]\n",
        "  h=''\n",
        "  m=''\n",
        "  s=''\n",
        "  mm=''\n",
        "  p=['H','M','S']\n",
        "  for i in y:\n",
        "    if i not in p:\n",
        "      mm+=i\n",
        "    else:\n",
        "      if (i==\"H\"):\n",
        "        h=mm\n",
        "        mm=''\n",
        "      elif (i==\"M\"):\n",
        "        m=mm\n",
        "        mm=''\n",
        "      else:\n",
        "        s=mm\n",
        "        mm=''\n",
        "  if (h==''):\n",
        "    h='00'\n",
        "  if (m==''):\n",
        "    m='00'\n",
        "  if (s==''):\n",
        "    s='00'\n",
        "  bp=h+':'+m+':'+s\n",
        "  return bp\n",
        "\n"
      ],
      "execution_count": 48,
      "outputs": []
    },
    {
      "cell_type": "code",
      "metadata": {
        "id": "ulrnEArrchGw"
      },
      "source": [
        "train=pd.read_csv(\"train.csv\")\n",
        "mp=pd.read_csv(\"train.csv\")[\"duration\"]\n",
        "time= mp.apply(checki)"
      ],
      "execution_count": 49,
      "outputs": []
    },
    {
      "cell_type": "code",
      "metadata": {
        "colab": {
          "base_uri": "https://localhost:8080/",
          "height": 205
        },
        "id": "btMO5JjofEBc",
        "outputId": "2407416e-d24e-44e5-dd45-2ac276fe054c"
      },
      "source": [
        "def fun_sec(time_string):\n",
        "  h,m,s= time_string.split(':')\n",
        "  return int(h)*3600+int(m)*60+int(s)\n",
        "time1=time.apply(fun_sec)\n",
        "data_train[\"duration\"]=time1\n",
        "data_train.head()"
      ],
      "execution_count": 50,
      "outputs": [
        {
          "output_type": "execute_result",
          "data": {
            "text/html": [
              "<div>\n",
              "<style scoped>\n",
              "    .dataframe tbody tr th:only-of-type {\n",
              "        vertical-align: middle;\n",
              "    }\n",
              "\n",
              "    .dataframe tbody tr th {\n",
              "        vertical-align: top;\n",
              "    }\n",
              "\n",
              "    .dataframe thead th {\n",
              "        text-align: right;\n",
              "    }\n",
              "</style>\n",
              "<table border=\"1\" class=\"dataframe\">\n",
              "  <thead>\n",
              "    <tr style=\"text-align: right;\">\n",
              "      <th></th>\n",
              "      <th>vidid</th>\n",
              "      <th>adview</th>\n",
              "      <th>views</th>\n",
              "      <th>likes</th>\n",
              "      <th>dislikes</th>\n",
              "      <th>comment</th>\n",
              "      <th>published</th>\n",
              "      <th>duration</th>\n",
              "      <th>category</th>\n",
              "    </tr>\n",
              "  </thead>\n",
              "  <tbody>\n",
              "    <tr>\n",
              "      <th>0</th>\n",
              "      <td>5912</td>\n",
              "      <td>40</td>\n",
              "      <td>1031602</td>\n",
              "      <td>8523</td>\n",
              "      <td>363</td>\n",
              "      <td>1095</td>\n",
              "      <td>2168</td>\n",
              "      <td>457</td>\n",
              "      <td>6</td>\n",
              "    </tr>\n",
              "    <tr>\n",
              "      <th>1</th>\n",
              "      <td>2741</td>\n",
              "      <td>2</td>\n",
              "      <td>1707</td>\n",
              "      <td>56</td>\n",
              "      <td>2</td>\n",
              "      <td>6</td>\n",
              "      <td>2185</td>\n",
              "      <td>570</td>\n",
              "      <td>4</td>\n",
              "    </tr>\n",
              "    <tr>\n",
              "      <th>2</th>\n",
              "      <td>8138</td>\n",
              "      <td>1</td>\n",
              "      <td>2023</td>\n",
              "      <td>25</td>\n",
              "      <td>0</td>\n",
              "      <td>2</td>\n",
              "      <td>2094</td>\n",
              "      <td>136</td>\n",
              "      <td>3</td>\n",
              "    </tr>\n",
              "    <tr>\n",
              "      <th>3</th>\n",
              "      <td>9005</td>\n",
              "      <td>6</td>\n",
              "      <td>620860</td>\n",
              "      <td>777</td>\n",
              "      <td>161</td>\n",
              "      <td>153</td>\n",
              "      <td>2119</td>\n",
              "      <td>262</td>\n",
              "      <td>8</td>\n",
              "    </tr>\n",
              "    <tr>\n",
              "      <th>4</th>\n",
              "      <td>122</td>\n",
              "      <td>1</td>\n",
              "      <td>666</td>\n",
              "      <td>1</td>\n",
              "      <td>0</td>\n",
              "      <td>0</td>\n",
              "      <td>2091</td>\n",
              "      <td>31</td>\n",
              "      <td>4</td>\n",
              "    </tr>\n",
              "  </tbody>\n",
              "</table>\n",
              "</div>"
            ],
            "text/plain": [
              "   vidid  adview    views  likes  ...  comment  published  duration  category\n",
              "0   5912      40  1031602   8523  ...     1095       2168       457         6\n",
              "1   2741       2     1707     56  ...        6       2185       570         4\n",
              "2   8138       1     2023     25  ...        2       2094       136         3\n",
              "3   9005       6   620860    777  ...      153       2119       262         8\n",
              "4    122       1      666      1  ...        0       2091        31         4\n",
              "\n",
              "[5 rows x 9 columns]"
            ]
          },
          "metadata": {
            "tags": []
          },
          "execution_count": 50
        }
      ]
    },
    {
      "cell_type": "markdown",
      "metadata": {
        "id": "XcyYYPn5gvVC"
      },
      "source": [
        "# Visualization"
      ]
    },
    {
      "cell_type": "markdown",
      "metadata": {
        "id": "yBwJF1kUg3tI"
      },
      "source": [
        "individual  plots"
      ]
    },
    {
      "cell_type": "code",
      "metadata": {
        "colab": {
          "base_uri": "https://localhost:8080/",
          "height": 524
        },
        "id": "u7n7vACVg1_Y",
        "outputId": "cf54b12e-a57a-43c1-e4c4-3b6cc82711c1"
      },
      "source": [
        "plt.hist(data_train['category'])\n",
        "plt.show()\n",
        "plt.plot(data_train['adview'])\n",
        "plt.show()"
      ],
      "execution_count": 51,
      "outputs": [
        {
          "output_type": "display_data",
          "data": {
            "image/png": "[encoded data removed]",
            "text/plain": [
              "<Figure size 432x288 with 1 Axes>"
            ]
          },
          "metadata": {
            "tags": [],
            "needs_background": "light"
          }
        },
        {
          "output_type": "display_data",
          "data": {
            "image/png": "[encoded data removed]",
            "text/plain": [
              "<Figure size 432x288 with 1 Axes>"
            ]
          },
          "metadata": {
            "tags": [],
            "needs_background": "light"
          }
        }
      ]
    },
    {
      "cell_type": "markdown",
      "metadata": {
        "id": "xePbJCRVhpHR"
      },
      "source": [
        "Remove videos with with adview greater than 1200000 as outlier."
      ]
    },
    {
      "cell_type": "code",
      "metadata": {
        "id": "RWkLbdsFh5ZH"
      },
      "source": [
        "data_train=data_train[data_train['adview']<1200000]\n"
      ],
      "execution_count": 52,
      "outputs": []
    },
    {
      "cell_type": "code",
      "metadata": {
        "colab": {
          "base_uri": "https://localhost:8080/",
          "height": 276
        },
        "id": "4jeciOk2FzyP",
        "outputId": "3fcad68a-8aa8-4b70-e142-da3abc5262f4"
      },
      "source": [
        "plt.plot(data_train['adview'])\n",
        "plt.show()"
      ],
      "execution_count": 53,
      "outputs": [
        {
          "output_type": "display_data",
          "data": {
            "image/png": "[encoded data removed]",
            "text/plain": [
              "<Figure size 432x288 with 1 Axes>"
            ]
          },
          "metadata": {
            "tags": [],
            "needs_background": "light"
          }
        }
      ]
    },
    {
      "cell_type": "markdown",
      "metadata": {
        "id": "WNE7RQ12iHRI"
      },
      "source": [
        "heatmap"
      ]
    },
    {
      "cell_type": "code",
      "metadata": {
        "colab": {
          "base_uri": "https://localhost:8080/",
          "height": 487
        },
        "id": "aCl9Qf8ziJAt",
        "outputId": "9d08ea38-09ac-4fad-e2ff-e6e54acac1f6"
      },
      "source": [
        "import seaborn as sns\n",
        "f, ax= plt.subplots(figsize=(10,8))\n",
        "corr= data_train.corr()\n",
        "sns.heatmap(corr, mask=np.zeros_like(corr, dtype=np.bool), cmap=sns.diverging_palette(220, 10, as_cmap=True),square=True,\n",
        "            ax=ax, annot=True)\n",
        "plt.show()\n"
      ],
      "execution_count": 54,
      "outputs": [
        {
          "output_type": "display_data",
          "data": {
            "image/png": "[encoded data removed]",
            "text/plain": [
              "<Figure size 720x576 with 2 Axes>"
            ]
          },
          "metadata": {
            "tags": [],
            "needs_background": "light"
          }
        }
      ]
    },
    {
      "cell_type": "markdown",
      "metadata": {
        "id": "nUHDPbxSpZZY"
      },
      "source": [
        "Split data"
      ]
    },
    {
      "cell_type": "code",
      "metadata": {
        "colab": {
          "base_uri": "https://localhost:8080/",
          "height": 205
        },
        "id": "rpTHlQXlpcUx",
        "outputId": "3b113370-429d-45dd-b0fc-ae4c91ebad36"
      },
      "source": [
        "Y_train= pd.DataFrame(data=data_train.iloc[:,1].values, columns=['target'])\n",
        "data_train=data_train.drop([\"adview\"],axis=1)\n",
        "data_train=data_train.drop([\"vidid\"],axis=1)\n",
        "data_train.head()"
      ],
      "execution_count": 55,
      "outputs": [
        {
          "output_type": "execute_result",
          "data": {
            "text/html": [
              "<div>\n",
              "<style scoped>\n",
              "    .dataframe tbody tr th:only-of-type {\n",
              "        vertical-align: middle;\n",
              "    }\n",
              "\n",
              "    .dataframe tbody tr th {\n",
              "        vertical-align: top;\n",
              "    }\n",
              "\n",
              "    .dataframe thead th {\n",
              "        text-align: right;\n",
              "    }\n",
              "</style>\n",
              "<table border=\"1\" class=\"dataframe\">\n",
              "  <thead>\n",
              "    <tr style=\"text-align: right;\">\n",
              "      <th></th>\n",
              "      <th>views</th>\n",
              "      <th>likes</th>\n",
              "      <th>dislikes</th>\n",
              "      <th>comment</th>\n",
              "      <th>published</th>\n",
              "      <th>duration</th>\n",
              "      <th>category</th>\n",
              "    </tr>\n",
              "  </thead>\n",
              "  <tbody>\n",
              "    <tr>\n",
              "      <th>0</th>\n",
              "      <td>1031602</td>\n",
              "      <td>8523</td>\n",
              "      <td>363</td>\n",
              "      <td>1095</td>\n",
              "      <td>2168</td>\n",
              "      <td>457</td>\n",
              "      <td>6</td>\n",
              "    </tr>\n",
              "    <tr>\n",
              "      <th>1</th>\n",
              "      <td>1707</td>\n",
              "      <td>56</td>\n",
              "      <td>2</td>\n",
              "      <td>6</td>\n",
              "      <td>2185</td>\n",
              "      <td>570</td>\n",
              "      <td>4</td>\n",
              "    </tr>\n",
              "    <tr>\n",
              "      <th>2</th>\n",
              "      <td>2023</td>\n",
              "      <td>25</td>\n",
              "      <td>0</td>\n",
              "      <td>2</td>\n",
              "      <td>2094</td>\n",
              "      <td>136</td>\n",
              "      <td>3</td>\n",
              "    </tr>\n",
              "    <tr>\n",
              "      <th>3</th>\n",
              "      <td>620860</td>\n",
              "      <td>777</td>\n",
              "      <td>161</td>\n",
              "      <td>153</td>\n",
              "      <td>2119</td>\n",
              "      <td>262</td>\n",
              "      <td>8</td>\n",
              "    </tr>\n",
              "    <tr>\n",
              "      <th>4</th>\n",
              "      <td>666</td>\n",
              "      <td>1</td>\n",
              "      <td>0</td>\n",
              "      <td>0</td>\n",
              "      <td>2091</td>\n",
              "      <td>31</td>\n",
              "      <td>4</td>\n",
              "    </tr>\n",
              "  </tbody>\n",
              "</table>\n",
              "</div>"
            ],
            "text/plain": [
              "     views  likes  dislikes  comment  published  duration  category\n",
              "0  1031602   8523       363     1095       2168       457         6\n",
              "1     1707     56         2        6       2185       570         4\n",
              "2     2023     25         0        2       2094       136         3\n",
              "3   620860    777       161      153       2119       262         8\n",
              "4      666      1         0        0       2091        31         4"
            ]
          },
          "metadata": {
            "tags": []
          },
          "execution_count": 55
        }
      ]
    },
    {
      "cell_type": "code",
      "metadata": {
        "colab": {
          "base_uri": "https://localhost:8080/"
        },
        "id": "TS8FpSkzroLW",
        "outputId": "181fb089-194c-4f06-af98-3d3142d1cda1"
      },
      "source": [
        "from sklearn.model_selection import train_test_split\n",
        "X_train, X_test, y_train, y_test= train_test_split(data_train, Y_train, test_size=0.1, random_state=42)\n",
        "X_train.shape"
      ],
      "execution_count": 56,
      "outputs": [
        {
          "output_type": "execute_result",
          "data": {
            "text/plain": [
              "(13169, 7)"
            ]
          },
          "metadata": {
            "tags": []
          },
          "execution_count": 56
        }
      ]
    },
    {
      "cell_type": "markdown",
      "metadata": {
        "id": "KYybM4PWvL5-"
      },
      "source": [
        "normalize data"
      ]
    },
    {
      "cell_type": "code",
      "metadata": {
        "id": "Kwh3-cI4vKkm"
      },
      "source": [
        "from sklearn.preprocessing import MinMaxScaler\n",
        "scaler= MinMaxScaler()\n",
        "X_train=scaler.fit_transform(X_train)\n",
        "X_test=scaler.fit_transform(X_test)"
      ],
      "execution_count": 57,
      "outputs": []
    },
    {
      "cell_type": "markdown",
      "metadata": {
        "id": "1yYpTT0HxVSE"
      },
      "source": [
        "Evalution metrics"
      ]
    },
    {
      "cell_type": "code",
      "metadata": {
        "id": "KQxxE84BtjvX"
      },
      "source": [
        "from sklearn import metrics\n",
        "def print_error(X_test, y_test, model_name):\n",
        "  prediction= model_name.predict(X_test)\n",
        "  print('MeanAbsoluteError:', metrics.mean_absolute_error(y_test, prediction))\n",
        "  print('MeanSquaredError:', metrics.mean_squared_error(y_test, prediction))\n",
        "  print('RootMeanSquareError:', np.sqrt(metrics.mean_squared_error(y_test, prediction)))"
      ],
      "execution_count": 58,
      "outputs": []
    },
    {
      "cell_type": "markdown",
      "metadata": {
        "id": "o24Qn9H11n3u"
      },
      "source": [
        "TRAINING Different Models."
      ]
    },
    {
      "cell_type": "code",
      "metadata": {
        "colab": {
          "base_uri": "https://localhost:8080/"
        },
        "id": "TgFVG1KXy8u-",
        "outputId": "2dc58dc4-0d53-4338-cb42-42fa961390b9"
      },
      "source": [
        "# linear Regression.\n",
        "from sklearn import linear_model\n",
        "linear_regression= linear_model.LinearRegression()\n",
        "linear_regression.fit(X_train, y_train)\n",
        "print_error(X_test,y_test, linear_regression)"
      ],
      "execution_count": 59,
      "outputs": [
        {
          "output_type": "stream",
          "text": [
            "MeanAbsoluteError: 3068.078313685456\n",
            "MeanSquaredError: 322256476.4061262\n",
            "RootMeanSquareError: 17951.503458098607\n"
          ],
          "name": "stdout"
        }
      ]
    },
    {
      "cell_type": "code",
      "metadata": {
        "colab": {
          "base_uri": "https://localhost:8080/"
        },
        "id": "tSzS8T_n0ax3",
        "outputId": "c987126f-9511-476a-baee-3dffddc633c9"
      },
      "source": [
        "# Decision Tree Regressor.\n",
        "from sklearn.tree import DecisionTreeRegressor\n",
        "decision_tree=DecisionTreeRegressor()\n",
        "decision_tree.fit(X_train, y_train)\n",
        "print_error(X_test,y_test, decision_tree)"
      ],
      "execution_count": 60,
      "outputs": [
        {
          "output_type": "stream",
          "text": [
            "MeanAbsoluteError: 3488.8408469945357\n",
            "MeanSquaredError: 1188156037.6728141\n",
            "RootMeanSquareError: 34469.63936093347\n"
          ],
          "name": "stdout"
        }
      ]
    },
    {
      "cell_type": "code",
      "metadata": {
        "colab": {
          "base_uri": "https://localhost:8080/"
        },
        "id": "OHKg8Kwf1kwy",
        "outputId": "0ae25d23-e76f-487e-817f-e0a92d85d477"
      },
      "source": [
        "# Random forest Regressor\n",
        "from sklearn.ensemble import RandomForestRegressor\n",
        "n_estimators=200\n",
        "max_depth=25\n",
        "min_samples_split=15\n",
        "min_samples_leaf=2\n",
        "random_forest= RandomForestRegressor(n_estimators= n_estimators, max_depth=max_depth, min_samples_split=min_samples_split,\n",
        "                                     min_samples_leaf=min_samples_leaf)\n",
        "random_forest.fit(X_train, y_train)\n",
        "print_error(X_test,y_test, random_forest)"
      ],
      "execution_count": 61,
      "outputs": [
        {
          "output_type": "stream",
          "text": [
            "/usr/local/lib/python3.7/dist-packages/ipykernel_launcher.py:9: DataConversionWarning: A column-vector y was passed when a 1d array was expected. Please change the shape of y to (n_samples,), for example using ravel().\n",
            "  if __name__ == '__main__':\n"
          ],
          "name": "stderr"
        },
        {
          "output_type": "stream",
          "text": [
            "MeanAbsoluteError: 2863.257950182867\n",
            "MeanSquaredError: 283438980.73531455\n",
            "RootMeanSquareError: 16835.646133585564\n"
          ],
          "name": "stdout"
        }
      ]
    },
    {
      "cell_type": "code",
      "metadata": {
        "colab": {
          "base_uri": "https://localhost:8080/"
        },
        "id": "G2zfGleE6bV9",
        "outputId": "762182d9-664f-4330-fa93-92e3189eba3f"
      },
      "source": [
        "# Support Vector Regressor\n",
        "from sklearn.svm import SVR\n",
        "supportvector_regressor=SVR()\n",
        "supportvector_regressor.fit(X_train,y_train)\n",
        "print_error(X_test,y_test, supportvector_regressor)"
      ],
      "execution_count": 62,
      "outputs": [
        {
          "output_type": "stream",
          "text": [
            "/usr/local/lib/python3.7/dist-packages/sklearn/utils/validation.py:760: DataConversionWarning: A column-vector y was passed when a 1d array was expected. Please change the shape of y to (n_samples, ), for example using ravel().\n",
            "  y = column_or_1d(y, warn=True)\n"
          ],
          "name": "stderr"
        },
        {
          "output_type": "stream",
          "text": [
            "MeanAbsoluteError: 1664.6020319150844\n",
            "MeanSquaredError: 326808177.07843494\n",
            "RootMeanSquareError: 18077.836626057746\n"
          ],
          "name": "stdout"
        }
      ]
    },
    {
      "cell_type": "markdown",
      "metadata": {
        "id": "ByHmuFEI84_3"
      },
      "source": [
        "Artificial NEURAL network\n"
      ]
    },
    {
      "cell_type": "code",
      "metadata": {
        "id": "veZfOPeN8-jU"
      },
      "source": [
        "import keras\n",
        "from keras.layers import  Dense\n",
        "ann=keras.models.Sequential([\n",
        "                             Dense(6, activation='relu',\n",
        "                                   input_shape= X_train.shape[1:]),\n",
        "                             Dense(6,activation='relu'),\n",
        "                             Dense(1)\n",
        "\n",
        "])"
      ],
      "execution_count": 63,
      "outputs": []
    },
    {
      "cell_type": "code",
      "metadata": {
        "colab": {
          "base_uri": "https://localhost:8080/"
        },
        "id": "ixLTMV-F-E7q",
        "outputId": "27322bba-ec59-419e-8814-5bd3ca4f16ea"
      },
      "source": [
        "optimizer=keras.optimizers.Adam()\n",
        "loss=keras.losses.mean_squared_error\n",
        "ann.compile(optimizer=optimizer, loss=loss, metrics=[\"mean_squared_error\"])\n",
        "history=ann.fit(X_train,y_train, epochs=100)"
      ],
      "execution_count": 64,
      "outputs": [
        {
          "output_type": "stream",
          "text": [
            "Epoch 1/100\n",
            "412/412 [==============================] - 1s 1ms/step - loss: 425956576.3232 - mean_squared_error: 425956576.3232\n",
            "Epoch 2/100\n",
            "412/412 [==============================] - 0s 1ms/step - loss: 405672068.7229 - mean_squared_error: 405672068.7229\n",
            "Epoch 3/100\n",
            "412/412 [==============================] - 0s 1ms/step - loss: 305818005.2479 - mean_squared_error: 305818005.2479\n",
            "Epoch 4/100\n",
            "412/412 [==============================] - 0s 1ms/step - loss: 310686963.9814 - mean_squared_error: 310686963.9814\n",
            "Epoch 5/100\n",
            "412/412 [==============================] - 0s 1ms/step - loss: 273548958.6665 - mean_squared_error: 273548958.6665\n",
            "Epoch 6/100\n",
            "412/412 [==============================] - 0s 1ms/step - loss: 261451946.7578 - mean_squared_error: 261451946.7578\n",
            "Epoch 7/100\n",
            "412/412 [==============================] - 0s 1ms/step - loss: 228684882.9031 - mean_squared_error: 228684882.9031\n",
            "Epoch 8/100\n",
            "412/412 [==============================] - 0s 1ms/step - loss: 429166046.5488 - mean_squared_error: 429166046.5488\n",
            "Epoch 9/100\n",
            "412/412 [==============================] - 0s 1ms/step - loss: 346181621.4237 - mean_squared_error: 346181621.4237\n",
            "Epoch 10/100\n",
            "412/412 [==============================] - 0s 1ms/step - loss: 327485916.8815 - mean_squared_error: 327485916.8815\n",
            "Epoch 11/100\n",
            "412/412 [==============================] - 0s 1ms/step - loss: 286392433.4280 - mean_squared_error: 286392433.4280\n",
            "Epoch 12/100\n",
            "412/412 [==============================] - 0s 1ms/step - loss: 253245648.9080 - mean_squared_error: 253245648.9080\n",
            "Epoch 13/100\n",
            "412/412 [==============================] - 0s 1ms/step - loss: 299987218.9038 - mean_squared_error: 299987218.9038\n",
            "Epoch 14/100\n",
            "412/412 [==============================] - 0s 1ms/step - loss: 231805130.0819 - mean_squared_error: 231805130.0819\n",
            "Epoch 15/100\n",
            "412/412 [==============================] - 0s 1ms/step - loss: 294853986.1824 - mean_squared_error: 294853986.1824\n",
            "Epoch 16/100\n",
            "412/412 [==============================] - 0s 1ms/step - loss: 224947803.4269 - mean_squared_error: 224947803.4269\n",
            "Epoch 17/100\n",
            "412/412 [==============================] - 0s 1ms/step - loss: 319141277.1456 - mean_squared_error: 319141277.1456\n",
            "Epoch 18/100\n",
            "412/412 [==============================] - 0s 1ms/step - loss: 418016147.3559 - mean_squared_error: 418016147.3559\n",
            "Epoch 19/100\n",
            "412/412 [==============================] - 0s 1ms/step - loss: 205409134.5029 - mean_squared_error: 205409134.5029\n",
            "Epoch 20/100\n",
            "412/412 [==============================] - 0s 1ms/step - loss: 365022970.6538 - mean_squared_error: 365022970.6538\n",
            "Epoch 21/100\n",
            "412/412 [==============================] - 0s 1ms/step - loss: 257329384.6335 - mean_squared_error: 257329384.6335\n",
            "Epoch 22/100\n",
            "412/412 [==============================] - 0s 1ms/step - loss: 279215017.5637 - mean_squared_error: 279215017.5637\n",
            "Epoch 23/100\n",
            "412/412 [==============================] - 0s 1ms/step - loss: 450102962.7900 - mean_squared_error: 450102962.7900\n",
            "Epoch 24/100\n",
            "412/412 [==============================] - 0s 1ms/step - loss: 362985730.3632 - mean_squared_error: 362985730.3632\n",
            "Epoch 25/100\n",
            "412/412 [==============================] - 0s 1ms/step - loss: 232738065.8363 - mean_squared_error: 232738065.8363\n",
            "Epoch 26/100\n",
            "412/412 [==============================] - 0s 1ms/step - loss: 282155266.3862 - mean_squared_error: 282155266.3862\n",
            "Epoch 27/100\n",
            "412/412 [==============================] - 0s 1ms/step - loss: 396723311.8596 - mean_squared_error: 396723311.8596\n",
            "Epoch 28/100\n",
            "412/412 [==============================] - 0s 1ms/step - loss: 176216328.8938 - mean_squared_error: 176216328.8938\n",
            "Epoch 29/100\n",
            "412/412 [==============================] - 0s 1ms/step - loss: 217533836.9667 - mean_squared_error: 217533836.9667\n",
            "Epoch 30/100\n",
            "412/412 [==============================] - 0s 1ms/step - loss: 347404282.8320 - mean_squared_error: 347404282.8320\n",
            "Epoch 31/100\n",
            "412/412 [==============================] - 0s 1ms/step - loss: 297493322.2603 - mean_squared_error: 297493322.2603\n",
            "Epoch 32/100\n",
            "412/412 [==============================] - 0s 1ms/step - loss: 237232545.1998 - mean_squared_error: 237232545.1998\n",
            "Epoch 33/100\n",
            "412/412 [==============================] - 0s 1ms/step - loss: 347437781.3535 - mean_squared_error: 347437781.3535\n",
            "Epoch 34/100\n",
            "412/412 [==============================] - 0s 1ms/step - loss: 244984475.7869 - mean_squared_error: 244984475.7869\n",
            "Epoch 35/100\n",
            "412/412 [==============================] - 0s 1ms/step - loss: 297549425.8508 - mean_squared_error: 297549425.8508\n",
            "Epoch 36/100\n",
            "412/412 [==============================] - 0s 1ms/step - loss: 244237445.8886 - mean_squared_error: 244237445.8886\n",
            "Epoch 37/100\n",
            "412/412 [==============================] - 0s 1ms/step - loss: 354528148.9812 - mean_squared_error: 354528148.9812\n",
            "Epoch 38/100\n",
            "412/412 [==============================] - 0s 1ms/step - loss: 432190833.2966 - mean_squared_error: 432190833.2966\n",
            "Epoch 39/100\n",
            "412/412 [==============================] - 0s 1ms/step - loss: 243000988.4122 - mean_squared_error: 243000988.4122\n",
            "Epoch 40/100\n",
            "412/412 [==============================] - 0s 1ms/step - loss: 194592914.3547 - mean_squared_error: 194592914.3547\n",
            "Epoch 41/100\n",
            "412/412 [==============================] - 0s 1ms/step - loss: 282535380.2010 - mean_squared_error: 282535380.2010\n",
            "Epoch 42/100\n",
            "412/412 [==============================] - 0s 1ms/step - loss: 258992800.3956 - mean_squared_error: 258992800.3956\n",
            "Epoch 43/100\n",
            "412/412 [==============================] - 0s 1ms/step - loss: 344564168.8801 - mean_squared_error: 344564168.8801\n",
            "Epoch 44/100\n",
            "412/412 [==============================] - 0s 1ms/step - loss: 249533122.1453 - mean_squared_error: 249533122.1453\n",
            "Epoch 45/100\n",
            "412/412 [==============================] - 0s 1ms/step - loss: 356419473.6416 - mean_squared_error: 356419473.6416\n",
            "Epoch 46/100\n",
            "412/412 [==============================] - 0s 1ms/step - loss: 233825147.6765 - mean_squared_error: 233825147.6765\n",
            "Epoch 47/100\n",
            "412/412 [==============================] - 0s 1ms/step - loss: 374085023.0460 - mean_squared_error: 374085023.0460\n",
            "Epoch 48/100\n",
            "412/412 [==============================] - 0s 1ms/step - loss: 330430711.5357 - mean_squared_error: 330430711.5357\n",
            "Epoch 49/100\n",
            "412/412 [==============================] - 0s 1ms/step - loss: 294669342.0884 - mean_squared_error: 294669342.0884\n",
            "Epoch 50/100\n",
            "412/412 [==============================] - 0s 1ms/step - loss: 313837220.7446 - mean_squared_error: 313837220.7446\n",
            "Epoch 51/100\n",
            "412/412 [==============================] - 0s 1ms/step - loss: 193987755.8099 - mean_squared_error: 193987755.8099\n",
            "Epoch 52/100\n",
            "412/412 [==============================] - 0s 1ms/step - loss: 203998152.2833 - mean_squared_error: 203998152.2833\n",
            "Epoch 53/100\n",
            "412/412 [==============================] - 0s 1ms/step - loss: 286815185.5012 - mean_squared_error: 286815185.5012\n",
            "Epoch 54/100\n",
            "412/412 [==============================] - 0s 1ms/step - loss: 273704451.9649 - mean_squared_error: 273704451.9649\n",
            "Epoch 55/100\n",
            "412/412 [==============================] - 0s 1ms/step - loss: 255770601.8692 - mean_squared_error: 255770601.8692\n",
            "Epoch 56/100\n",
            "412/412 [==============================] - 0s 1ms/step - loss: 238228370.2509 - mean_squared_error: 238228370.2509\n",
            "Epoch 57/100\n",
            "412/412 [==============================] - 0s 1ms/step - loss: 440995301.7651 - mean_squared_error: 440995301.7651\n",
            "Epoch 58/100\n",
            "412/412 [==============================] - 0s 1ms/step - loss: 287648650.5421 - mean_squared_error: 287648650.5421\n",
            "Epoch 59/100\n",
            "412/412 [==============================] - 0s 1ms/step - loss: 307370922.1453 - mean_squared_error: 307370922.1453\n",
            "Epoch 60/100\n",
            "412/412 [==============================] - 0s 1ms/step - loss: 274446533.7303 - mean_squared_error: 274446533.7303\n",
            "Epoch 61/100\n",
            "412/412 [==============================] - 0s 1ms/step - loss: 340344153.2421 - mean_squared_error: 340344153.2421\n",
            "Epoch 62/100\n",
            "412/412 [==============================] - 0s 1ms/step - loss: 233115003.5545 - mean_squared_error: 233115003.5545\n",
            "Epoch 63/100\n",
            "412/412 [==============================] - 0s 1ms/step - loss: 329269820.6646 - mean_squared_error: 329269820.6646\n",
            "Epoch 64/100\n",
            "412/412 [==============================] - 0s 1ms/step - loss: 288504781.2137 - mean_squared_error: 288504781.2137\n",
            "Epoch 65/100\n",
            "412/412 [==============================] - 0s 1ms/step - loss: 290711168.9722 - mean_squared_error: 290711168.9722\n",
            "Epoch 66/100\n",
            "412/412 [==============================] - 0s 1ms/step - loss: 462712772.5787 - mean_squared_error: 462712772.5787\n",
            "Epoch 67/100\n",
            "412/412 [==============================] - 0s 1ms/step - loss: 232768332.4703 - mean_squared_error: 232768332.4703\n",
            "Epoch 68/100\n",
            "412/412 [==============================] - 0s 1ms/step - loss: 252971210.6840 - mean_squared_error: 252971210.6840\n",
            "Epoch 69/100\n",
            "412/412 [==============================] - 0s 1ms/step - loss: 200166976.7512 - mean_squared_error: 200166976.7512\n",
            "Epoch 70/100\n",
            "412/412 [==============================] - 0s 1ms/step - loss: 235401248.6392 - mean_squared_error: 235401248.6392\n",
            "Epoch 71/100\n",
            "412/412 [==============================] - 0s 1ms/step - loss: 570864785.9240 - mean_squared_error: 570864785.9240\n",
            "Epoch 72/100\n",
            "412/412 [==============================] - 0s 1ms/step - loss: 272050393.1743 - mean_squared_error: 272050393.1743\n",
            "Epoch 73/100\n",
            "412/412 [==============================] - 0s 1ms/step - loss: 349738603.7004 - mean_squared_error: 349738603.7004\n",
            "Epoch 74/100\n",
            "412/412 [==============================] - 0s 1ms/step - loss: 361732160.1985 - mean_squared_error: 361732160.1985\n",
            "Epoch 75/100\n",
            "412/412 [==============================] - 0s 1ms/step - loss: 392744372.4116 - mean_squared_error: 392744372.4116\n",
            "Epoch 76/100\n",
            "412/412 [==============================] - 0s 1ms/step - loss: 312395051.1096 - mean_squared_error: 312395051.1096\n",
            "Epoch 77/100\n",
            "412/412 [==============================] - 0s 1ms/step - loss: 289922732.5294 - mean_squared_error: 289922732.5294\n",
            "Epoch 78/100\n",
            "412/412 [==============================] - 1s 1ms/step - loss: 297830485.0557 - mean_squared_error: 297830485.0557\n",
            "Epoch 79/100\n",
            "412/412 [==============================] - 0s 1ms/step - loss: 678283136.4364 - mean_squared_error: 678283136.4364\n",
            "Epoch 80/100\n",
            "412/412 [==============================] - 0s 1ms/step - loss: 265746502.5272 - mean_squared_error: 265746502.5272\n",
            "Epoch 81/100\n",
            "412/412 [==============================] - 0s 1ms/step - loss: 422945091.0732 - mean_squared_error: 422945091.0732\n",
            "Epoch 82/100\n",
            "412/412 [==============================] - 0s 1ms/step - loss: 275108607.4812 - mean_squared_error: 275108607.4812\n",
            "Epoch 83/100\n",
            "412/412 [==============================] - 0s 1ms/step - loss: 272062692.3438 - mean_squared_error: 272062692.3438\n",
            "Epoch 84/100\n",
            "412/412 [==============================] - 1s 1ms/step - loss: 292261521.0236 - mean_squared_error: 292261521.0236\n",
            "Epoch 85/100\n",
            "412/412 [==============================] - 0s 1ms/step - loss: 239590955.5751 - mean_squared_error: 239590955.5751\n",
            "Epoch 86/100\n",
            "412/412 [==============================] - 0s 1ms/step - loss: 543321172.0787 - mean_squared_error: 543321172.0787\n",
            "Epoch 87/100\n",
            "412/412 [==============================] - 0s 1ms/step - loss: 314932360.1283 - mean_squared_error: 314932360.1283\n",
            "Epoch 88/100\n",
            "412/412 [==============================] - 0s 1ms/step - loss: 395639156.8447 - mean_squared_error: 395639156.8447\n",
            "Epoch 89/100\n",
            "412/412 [==============================] - 0s 1ms/step - loss: 467745421.9298 - mean_squared_error: 467745421.9298\n",
            "Epoch 90/100\n",
            "412/412 [==============================] - 1s 1ms/step - loss: 447662380.5860 - mean_squared_error: 447662380.5860\n",
            "Epoch 91/100\n",
            "412/412 [==============================] - 0s 1ms/step - loss: 255843192.7361 - mean_squared_error: 255843192.7361\n",
            "Epoch 92/100\n",
            "412/412 [==============================] - 1s 1ms/step - loss: 360436893.0590 - mean_squared_error: 360436893.0590\n",
            "Epoch 93/100\n",
            "412/412 [==============================] - 0s 1ms/step - loss: 305995049.8547 - mean_squared_error: 305995049.8547\n",
            "Epoch 94/100\n",
            "412/412 [==============================] - 0s 1ms/step - loss: 245037621.6852 - mean_squared_error: 245037621.6852\n",
            "Epoch 95/100\n",
            "412/412 [==============================] - 0s 1ms/step - loss: 326058240.4455 - mean_squared_error: 326058240.4455\n",
            "Epoch 96/100\n",
            "412/412 [==============================] - 0s 1ms/step - loss: 233484685.4782 - mean_squared_error: 233484685.4782\n",
            "Epoch 97/100\n",
            "412/412 [==============================] - 0s 1ms/step - loss: 303310400.2010 - mean_squared_error: 303310400.2010\n",
            "Epoch 98/100\n",
            "412/412 [==============================] - 1s 1ms/step - loss: 386881509.0097 - mean_squared_error: 386881509.0097\n",
            "Epoch 99/100\n",
            "412/412 [==============================] - 0s 1ms/step - loss: 284918325.7585 - mean_squared_error: 284918325.7585\n",
            "Epoch 100/100\n",
            "412/412 [==============================] - 0s 1ms/step - loss: 254585991.2276 - mean_squared_error: 254585991.2276\n"
          ],
          "name": "stdout"
        }
      ]
    },
    {
      "cell_type": "code",
      "metadata": {
        "colab": {
          "base_uri": "https://localhost:8080/"
        },
        "id": "3m5QvPGs_PGT",
        "outputId": "d3e828fb-3b6f-4024-dd89-2a078b0e45bb"
      },
      "source": [
        "ann.summary()\n",
        "print_error(X_test,y_test, ann)\n"
      ],
      "execution_count": 65,
      "outputs": [
        {
          "output_type": "stream",
          "text": [
            "Model: \"sequential_1\"\n",
            "_________________________________________________________________\n",
            "Layer (type)                 Output Shape              Param #   \n",
            "=================================================================\n",
            "dense_3 (Dense)              (None, 6)                 48        \n",
            "_________________________________________________________________\n",
            "dense_4 (Dense)              (None, 6)                 42        \n",
            "_________________________________________________________________\n",
            "dense_5 (Dense)              (None, 1)                 7         \n",
            "=================================================================\n",
            "Total params: 97\n",
            "Trainable params: 97\n",
            "Non-trainable params: 0\n",
            "_________________________________________________________________\n",
            "MeanAbsoluteError: 2849.6926883633346\n",
            "MeanSquaredError: 322474775.0223471\n",
            "RootMeanSquareError: 17957.582660880253\n"
          ],
          "name": "stdout"
        }
      ]
    },
    {
      "cell_type": "markdown",
      "metadata": {
        "id": "6fQvJtUX_6EG"
      },
      "source": [
        "Saving scikit and keras models"
      ]
    },
    {
      "cell_type": "code",
      "metadata": {
        "colab": {
          "base_uri": "https://localhost:8080/"
        },
        "id": "4_r-B4rEAAgO",
        "outputId": "a5595b7f-8c41-46af-c977-bdbba07c5314"
      },
      "source": [
        "# Saving Scikit models\n",
        "import joblib\n",
        "joblib.dump(supportvector_regressor, \"SVR_youtubeadview.pkl\")"
      ],
      "execution_count": null,
      "outputs": [
        {
          "output_type": "execute_result",
          "data": {
            "text/plain": [
              "['SVR_youtubeadview.pkl']"
            ]
          },
          "metadata": {
            "tags": []
          },
          "execution_count": 35
        }
      ]
    },
    {
      "cell_type": "code",
      "metadata": {
        "id": "Okzunx7AA5mL"
      },
      "source": [
        "#  Saving Keras ANN\n",
        "ann.save('ann_youtubeadview.h5')"
      ],
      "execution_count": null,
      "outputs": []
    },
    {
      "cell_type": "markdown",
      "metadata": {
        "id": "tJnFhr04IfPy"
      },
      "source": [
        "# now fetching new test data set and predicting it"
      ]
    },
    {
      "cell_type": "code",
      "metadata": {
        "colab": {
          "resources": {
            "http://localhost:8080/nbextensions/google.colab/files.js": {
              "data": "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",
              "ok": true,
              "headers": [
                [
                  "content-type",
                  "application/javascript"
                ]
              ],
              "status": 200,
              "status_text": ""
            }
          },
          "base_uri": "https://localhost:8080/",
          "height": 73
        },
        "id": "upSug0dM8zqu",
        "outputId": "41ecf6e4-2dbc-4054-ea0b-5e59d57fdd46"
      },
      "source": [
        "from google.colab import files\n",
        "uploaded= files.upload()"
      ],
      "execution_count": 66,
      "outputs": [
        {
          "output_type": "display_data",
          "data": {
            "text/html": [
              "\n",
              "     <input type=\"file\" id=\"files-c7f1beb2-0305-48e6-9c4f-a37129e9c1cf\" name=\"files[]\" multiple disabled\n",
              "        style=\"border:none\" />\n",
              "     <output id=\"result-c7f1beb2-0305-48e6-9c4f-a37129e9c1cf\">\n",
              "      Upload widget is only available when the cell has been executed in the\n",
              "      current browser session. Please rerun this cell to enable.\n",
              "      </output>\n",
              "      <script src=\"/nbextensions/google.colab/files.js\"></script> "
            ],
            "text/plain": [
              "<IPython.core.display.HTML object>"
            ]
          },
          "metadata": {
            "tags": []
          }
        },
        {
          "output_type": "stream",
          "text": [
            "Saving test.csv to test.csv\n"
          ],
          "name": "stdout"
        }
      ]
    },
    {
      "cell_type": "code",
      "metadata": {
        "id": "iJaAIWbKKkum"
      },
      "source": [
        "new_test_data = pd.read_csv(\"test.csv\")"
      ],
      "execution_count": 72,
      "outputs": []
    },
    {
      "cell_type": "code",
      "metadata": {
        "colab": {
          "base_uri": "https://localhost:8080/"
        },
        "id": "hlArnRqMK1aQ",
        "outputId": "7b6c08c0-ed83-4329-cbed-0d7c94fd54e1"
      },
      "source": [
        "print(new_test_data.head())\n",
        "new_test_data.shape"
      ],
      "execution_count": 73,
      "outputs": [
        {
          "output_type": "stream",
          "text": [
            "       vidid    views likes dislikes comment   published  duration category\n",
            "0   VID_1054   440238  6153      218    1377  2017-02-18   PT7M29S        B\n",
            "1  VID_18629  1040132  8171      340    1047  2016-06-28   PT6M29S        F\n",
            "2  VID_13967    28534    31       11       1  2014-03-10  PT37M54S        D\n",
            "3  VID_19442  1316715  2284      250     274  2010-06-05   PT9M55S        G\n",
            "4    VID_770  1893173  2519      225     116  2016-09-03    PT3M8S        B\n"
          ],
          "name": "stdout"
        },
        {
          "output_type": "execute_result",
          "data": {
            "text/plain": [
              "(8764, 8)"
            ]
          },
          "metadata": {
            "tags": []
          },
          "execution_count": 73
        }
      ]
    },
    {
      "cell_type": "code",
      "metadata": {
        "colab": {
          "base_uri": "https://localhost:8080/"
        },
        "id": "TUUXKzpiLEX1",
        "outputId": "8760fcd4-07d3-4c29-dc7c-f0b8276b5131"
      },
      "source": [
        "category={'A':1,'B':2,'C':3,'D':4,'E':5,'F':6,'G':7,'H':8}\n",
        "\n",
        "new_test_data[\"category\"]=new_test_data[\"category\"].map(category)\n",
        "new_test_data.head"
      ],
      "execution_count": 74,
      "outputs": [
        {
          "output_type": "execute_result",
          "data": {
            "text/plain": [
              "<bound method NDFrame.head of           vidid    views likes  ...   published    duration category\n",
              "0      VID_1054   440238  6153  ...  2017-02-18     PT7M29S        2\n",
              "1     VID_18629  1040132  8171  ...  2016-06-28     PT6M29S        6\n",
              "2     VID_13967    28534    31  ...  2014-03-10    PT37M54S        4\n",
              "3     VID_19442  1316715  2284  ...  2010-06-05     PT9M55S        7\n",
              "4       VID_770  1893173  2519  ...  2016-09-03      PT3M8S        2\n",
              "...         ...      ...   ...  ...         ...         ...      ...\n",
              "8759   VID_2944   111205   471  ...  2011-04-19     PT3M14S        3\n",
              "8760   VID_8195  1074457  1024  ...  2016-06-03  PT2H18M35S        4\n",
              "8761  VID_18973  1891692  4606  ...  2016-06-26     PT7M14S        6\n",
              "8762   VID_5849   714859  1639  ...  2016-03-23     PT3M15S        4\n",
              "8763   VID_8494     5297    12  ...  2016-12-19    PT10M14S        4\n",
              "\n",
              "[8764 rows x 8 columns]>"
            ]
          },
          "metadata": {
            "tags": []
          },
          "execution_count": 74
        }
      ]
    },
    {
      "cell_type": "code",
      "metadata": {
        "id": "gkB9oJ13LSm1"
      },
      "source": [
        "new_test_data=new_test_data[new_test_data.views!='F']\n",
        "new_test_data=new_test_data[new_test_data.likes!='F']\n",
        "new_test_data=new_test_data[new_test_data.dislikes!='F']\n",
        "new_test_data=new_test_data[new_test_data.comment!='F']"
      ],
      "execution_count": 75,
      "outputs": []
    },
    {
      "cell_type": "code",
      "metadata": {
        "id": "DtEIXHcVMQmk"
      },
      "source": [
        "new_test_data['views']=pd.to_numeric(new_test_data['views'])\n",
        "new_test_data['comment']=pd.to_numeric(new_test_data['comment'])\n",
        "new_test_data['likes']=pd.to_numeric(new_test_data['likes'])\n",
        "new_test_data['dislikes']=pd.to_numeric(new_test_data['dislikes'])\n"
      ],
      "execution_count": 76,
      "outputs": []
    },
    {
      "cell_type": "code",
      "metadata": {
        "id": "hpS5GWxzM1a1"
      },
      "source": [
        "\n",
        "column_vidid=new_test_data['vidid']\n"
      ],
      "execution_count": 78,
      "outputs": []
    },
    {
      "cell_type": "code",
      "metadata": {
        "colab": {
          "base_uri": "https://localhost:8080/",
          "height": 205
        },
        "id": "pONL6CcJNDfM",
        "outputId": "2ad633dc-87ba-46bf-ee27-d6b83466a427"
      },
      "source": [
        "from sklearn.preprocessing import LabelEncoder\n",
        "new_test_data['duration']=LabelEncoder().fit_transform(new_test_data['duration'])\n",
        "new_test_data['vidid']=LabelEncoder().fit_transform(new_test_data['vidid'])\n",
        "new_test_data['published']=LabelEncoder().fit_transform(new_test_data['published'])\n",
        "new_test_data.head()"
      ],
      "execution_count": 79,
      "outputs": [
        {
          "output_type": "execute_result",
          "data": {
            "text/html": [
              "<div>\n",
              "<style scoped>\n",
              "    .dataframe tbody tr th:only-of-type {\n",
              "        vertical-align: middle;\n",
              "    }\n",
              "\n",
              "    .dataframe tbody tr th {\n",
              "        vertical-align: top;\n",
              "    }\n",
              "\n",
              "    .dataframe thead th {\n",
              "        text-align: right;\n",
              "    }\n",
              "</style>\n",
              "<table border=\"1\" class=\"dataframe\">\n",
              "  <thead>\n",
              "    <tr style=\"text-align: right;\">\n",
              "      <th></th>\n",
              "      <th>vidid</th>\n",
              "      <th>views</th>\n",
              "      <th>likes</th>\n",
              "      <th>dislikes</th>\n",
              "      <th>comment</th>\n",
              "      <th>published</th>\n",
              "      <th>duration</th>\n",
              "      <th>category</th>\n",
              "    </tr>\n",
              "  </thead>\n",
              "  <tbody>\n",
              "    <tr>\n",
              "      <th>0</th>\n",
              "      <td>231</td>\n",
              "      <td>440238</td>\n",
              "      <td>6153</td>\n",
              "      <td>218</td>\n",
              "      <td>1377</td>\n",
              "      <td>2053</td>\n",
              "      <td>2115</td>\n",
              "      <td>2</td>\n",
              "    </tr>\n",
              "    <tr>\n",
              "      <th>1</th>\n",
              "      <td>3444</td>\n",
              "      <td>1040132</td>\n",
              "      <td>8171</td>\n",
              "      <td>340</td>\n",
              "      <td>1047</td>\n",
              "      <td>1825</td>\n",
              "      <td>2055</td>\n",
              "      <td>6</td>\n",
              "    </tr>\n",
              "    <tr>\n",
              "      <th>2</th>\n",
              "      <td>1593</td>\n",
              "      <td>28534</td>\n",
              "      <td>31</td>\n",
              "      <td>11</td>\n",
              "      <td>1</td>\n",
              "      <td>1009</td>\n",
              "      <td>1506</td>\n",
              "      <td>4</td>\n",
              "    </tr>\n",
              "    <tr>\n",
              "      <th>3</th>\n",
              "      <td>3775</td>\n",
              "      <td>1316715</td>\n",
              "      <td>2284</td>\n",
              "      <td>250</td>\n",
              "      <td>274</td>\n",
              "      <td>116</td>\n",
              "      <td>2265</td>\n",
              "      <td>7</td>\n",
              "    </tr>\n",
              "    <tr>\n",
              "      <th>4</th>\n",
              "      <td>7644</td>\n",
              "      <td>1893173</td>\n",
              "      <td>2519</td>\n",
              "      <td>225</td>\n",
              "      <td>116</td>\n",
              "      <td>1892</td>\n",
              "      <td>1625</td>\n",
              "      <td>2</td>\n",
              "    </tr>\n",
              "  </tbody>\n",
              "</table>\n",
              "</div>"
            ],
            "text/plain": [
              "   vidid    views  likes  dislikes  comment  published  duration  category\n",
              "0    231   440238   6153       218     1377       2053      2115         2\n",
              "1   3444  1040132   8171       340     1047       1825      2055         6\n",
              "2   1593    28534     31        11        1       1009      1506         4\n",
              "3   3775  1316715   2284       250      274        116      2265         7\n",
              "4   7644  1893173   2519       225      116       1892      1625         2"
            ]
          },
          "metadata": {
            "tags": []
          },
          "execution_count": 79
        }
      ]
    },
    {
      "cell_type": "code",
      "metadata": {
        "id": "9YmODhZcNWQU"
      },
      "source": [
        "import datetime\n",
        "import time"
      ],
      "execution_count": 80,
      "outputs": []
    },
    {
      "cell_type": "code",
      "metadata": {
        "id": "ZCxCmNwNNYxk"
      },
      "source": [
        "def checki(x):\n",
        "  y=x[2:]\n",
        "  h=''\n",
        "  m=''\n",
        "  s=''\n",
        "  mm=''\n",
        "  p=['H','M','S']\n",
        "  for i in y:\n",
        "    if i not in p:\n",
        "      mm+=i\n",
        "    else:\n",
        "      if (i==\"H\"):\n",
        "        h=mm\n",
        "        mm=''\n",
        "      elif (i==\"M\"):\n",
        "        m=mm\n",
        "        mm=''\n",
        "      else:\n",
        "        s=mm\n",
        "        mm=''\n",
        "  if (h==''):\n",
        "    h='00'\n",
        "  if (m==''):\n",
        "    m='00'\n",
        "  if (s==''):\n",
        "    s='00'\n",
        "  bp=h+':'+m+':'+s\n",
        "  return bp\n",
        "\n"
      ],
      "execution_count": 81,
      "outputs": []
    },
    {
      "cell_type": "code",
      "metadata": {
        "id": "Tt5Br8E2NiEj"
      },
      "source": [
        "test=pd.read_csv(\"test.csv\")\n",
        "mp=pd.read_csv(\"test.csv\")[\"duration\"]\n",
        "time= mp.apply(checki)"
      ],
      "execution_count": 82,
      "outputs": []
    },
    {
      "cell_type": "code",
      "metadata": {
        "colab": {
          "base_uri": "https://localhost:8080/",
          "height": 205
        },
        "id": "_GjJJg2sNyjE",
        "outputId": "907d16b6-1d6d-4963-c559-ea83a34b0fd0"
      },
      "source": [
        "def fun_sec(time_string):\n",
        "  h,m,s= time_string.split(':')\n",
        "  return int(h)*3600+int(m)*60+int(s)\n",
        "time1=time.apply(fun_sec)\n",
        "new_test_data[\"duration\"]=time1\n",
        "new_test_data.head()"
      ],
      "execution_count": 83,
      "outputs": [
        {
          "output_type": "execute_result",
          "data": {
            "text/html": [
              "<div>\n",
              "<style scoped>\n",
              "    .dataframe tbody tr th:only-of-type {\n",
              "        vertical-align: middle;\n",
              "    }\n",
              "\n",
              "    .dataframe tbody tr th {\n",
              "        vertical-align: top;\n",
              "    }\n",
              "\n",
              "    .dataframe thead th {\n",
              "        text-align: right;\n",
              "    }\n",
              "</style>\n",
              "<table border=\"1\" class=\"dataframe\">\n",
              "  <thead>\n",
              "    <tr style=\"text-align: right;\">\n",
              "      <th></th>\n",
              "      <th>vidid</th>\n",
              "      <th>views</th>\n",
              "      <th>likes</th>\n",
              "      <th>dislikes</th>\n",
              "      <th>comment</th>\n",
              "      <th>published</th>\n",
              "      <th>duration</th>\n",
              "      <th>category</th>\n",
              "    </tr>\n",
              "  </thead>\n",
              "  <tbody>\n",
              "    <tr>\n",
              "      <th>0</th>\n",
              "      <td>231</td>\n",
              "      <td>440238</td>\n",
              "      <td>6153</td>\n",
              "      <td>218</td>\n",
              "      <td>1377</td>\n",
              "      <td>2053</td>\n",
              "      <td>449</td>\n",
              "      <td>2</td>\n",
              "    </tr>\n",
              "    <tr>\n",
              "      <th>1</th>\n",
              "      <td>3444</td>\n",
              "      <td>1040132</td>\n",
              "      <td>8171</td>\n",
              "      <td>340</td>\n",
              "      <td>1047</td>\n",
              "      <td>1825</td>\n",
              "      <td>389</td>\n",
              "      <td>6</td>\n",
              "    </tr>\n",
              "    <tr>\n",
              "      <th>2</th>\n",
              "      <td>1593</td>\n",
              "      <td>28534</td>\n",
              "      <td>31</td>\n",
              "      <td>11</td>\n",
              "      <td>1</td>\n",
              "      <td>1009</td>\n",
              "      <td>2274</td>\n",
              "      <td>4</td>\n",
              "    </tr>\n",
              "    <tr>\n",
              "      <th>3</th>\n",
              "      <td>3775</td>\n",
              "      <td>1316715</td>\n",
              "      <td>2284</td>\n",
              "      <td>250</td>\n",
              "      <td>274</td>\n",
              "      <td>116</td>\n",
              "      <td>595</td>\n",
              "      <td>7</td>\n",
              "    </tr>\n",
              "    <tr>\n",
              "      <th>4</th>\n",
              "      <td>7644</td>\n",
              "      <td>1893173</td>\n",
              "      <td>2519</td>\n",
              "      <td>225</td>\n",
              "      <td>116</td>\n",
              "      <td>1892</td>\n",
              "      <td>188</td>\n",
              "      <td>2</td>\n",
              "    </tr>\n",
              "  </tbody>\n",
              "</table>\n",
              "</div>"
            ],
            "text/plain": [
              "   vidid    views  likes  dislikes  comment  published  duration  category\n",
              "0    231   440238   6153       218     1377       2053       449         2\n",
              "1   3444  1040132   8171       340     1047       1825       389         6\n",
              "2   1593    28534     31        11        1       1009      2274         4\n",
              "3   3775  1316715   2284       250      274        116       595         7\n",
              "4   7644  1893173   2519       225      116       1892       188         2"
            ]
          },
          "metadata": {
            "tags": []
          },
          "execution_count": 83
        }
      ]
    },
    {
      "cell_type": "code",
      "metadata": {
        "colab": {
          "base_uri": "https://localhost:8080/",
          "height": 205
        },
        "id": "5lwET-dKOdSU",
        "outputId": "2e5e7fc2-5e8d-4c1e-d788-f818599093f5"
      },
      "source": [
        "new_test_data=new_test_data.drop([\"vidid\"],axis=1)\n",
        "new_test_data.head()"
      ],
      "execution_count": 85,
      "outputs": [
        {
          "output_type": "execute_result",
          "data": {
            "text/html": [
              "<div>\n",
              "<style scoped>\n",
              "    .dataframe tbody tr th:only-of-type {\n",
              "        vertical-align: middle;\n",
              "    }\n",
              "\n",
              "    .dataframe tbody tr th {\n",
              "        vertical-align: top;\n",
              "    }\n",
              "\n",
              "    .dataframe thead th {\n",
              "        text-align: right;\n",
              "    }\n",
              "</style>\n",
              "<table border=\"1\" class=\"dataframe\">\n",
              "  <thead>\n",
              "    <tr style=\"text-align: right;\">\n",
              "      <th></th>\n",
              "      <th>views</th>\n",
              "      <th>likes</th>\n",
              "      <th>dislikes</th>\n",
              "      <th>comment</th>\n",
              "      <th>published</th>\n",
              "      <th>duration</th>\n",
              "      <th>category</th>\n",
              "    </tr>\n",
              "  </thead>\n",
              "  <tbody>\n",
              "    <tr>\n",
              "      <th>0</th>\n",
              "      <td>440238</td>\n",
              "      <td>6153</td>\n",
              "      <td>218</td>\n",
              "      <td>1377</td>\n",
              "      <td>2053</td>\n",
              "      <td>449</td>\n",
              "      <td>2</td>\n",
              "    </tr>\n",
              "    <tr>\n",
              "      <th>1</th>\n",
              "      <td>1040132</td>\n",
              "      <td>8171</td>\n",
              "      <td>340</td>\n",
              "      <td>1047</td>\n",
              "      <td>1825</td>\n",
              "      <td>389</td>\n",
              "      <td>6</td>\n",
              "    </tr>\n",
              "    <tr>\n",
              "      <th>2</th>\n",
              "      <td>28534</td>\n",
              "      <td>31</td>\n",
              "      <td>11</td>\n",
              "      <td>1</td>\n",
              "      <td>1009</td>\n",
              "      <td>2274</td>\n",
              "      <td>4</td>\n",
              "    </tr>\n",
              "    <tr>\n",
              "      <th>3</th>\n",
              "      <td>1316715</td>\n",
              "      <td>2284</td>\n",
              "      <td>250</td>\n",
              "      <td>274</td>\n",
              "      <td>116</td>\n",
              "      <td>595</td>\n",
              "      <td>7</td>\n",
              "    </tr>\n",
              "    <tr>\n",
              "      <th>4</th>\n",
              "      <td>1893173</td>\n",
              "      <td>2519</td>\n",
              "      <td>225</td>\n",
              "      <td>116</td>\n",
              "      <td>1892</td>\n",
              "      <td>188</td>\n",
              "      <td>2</td>\n",
              "    </tr>\n",
              "  </tbody>\n",
              "</table>\n",
              "</div>"
            ],
            "text/plain": [
              "     views  likes  dislikes  comment  published  duration  category\n",
              "0   440238   6153       218     1377       2053       449         2\n",
              "1  1040132   8171       340     1047       1825       389         6\n",
              "2    28534     31        11        1       1009      2274         4\n",
              "3  1316715   2284       250      274        116       595         7\n",
              "4  1893173   2519       225      116       1892       188         2"
            ]
          },
          "metadata": {
            "tags": []
          },
          "execution_count": 85
        }
      ]
    },
    {
      "cell_type": "code",
      "metadata": {
        "id": "Bsieio-tOpcc"
      },
      "source": [
        "from sklearn.preprocessing import MinMaxScaler\n",
        "scaler= MinMaxScaler()\n",
        "new_test_data=scaler.fit_transform(new_test_data)"
      ],
      "execution_count": 86,
      "outputs": []
    },
    {
      "cell_type": "code",
      "metadata": {
        "id": "CH5TIguGO5jz"
      },
      "source": [
        "target= random_forest.predict(new_test_data)"
      ],
      "execution_count": 90,
      "outputs": []
    },
    {
      "cell_type": "code",
      "metadata": {
        "colab": {
          "base_uri": "https://localhost:8080/",
          "height": 17
        },
        "id": "i0Oy_1QAPAXb",
        "outputId": "20b6e3ae-8713-4342-a1c6-c57a3935abd6"
      },
      "source": [
        "# To create Dataframe of predicted value with particular respective index\n",
        "res = pd.DataFrame(target) #preditcions are nothing but the final predictions of your model on input features of your new unseen test data\n",
        "# res.index = new_test_data.index # its important for comparison. Here \"test_new\" is your new test dataset\n",
        "res.columns = [\"adview\"]\n",
        "\n",
        "# To download the csv file locally\n",
        "from google.colab import files\n",
        "res.to_csv('Prediction.csv', index=False)         \n",
        "files.download('Prediction.csv')"
      ],
      "execution_count": 91,
      "outputs": [
        {
          "output_type": "display_data",
          "data": {
            "application/javascript": [
              "\n",
              "    async function download(id, filename, size) {\n",
              "      if (!google.colab.kernel.accessAllowed) {\n",
              "        return;\n",
              "      }\n",
              "      const div = document.createElement('div');\n",
              "      const label = document.createElement('label');\n",
              "      label.textContent = `Downloading \"${filename}\": `;\n",
              "      div.appendChild(label);\n",
              "      const progress = document.createElement('progress');\n",
              "      progress.max = size;\n",
              "      div.appendChild(progress);\n",
              "      document.body.appendChild(div);\n",
              "\n",
              "      const buffers = [];\n",
              "      let downloaded = 0;\n",
              "\n",
              "      const channel = await google.colab.kernel.comms.open(id);\n",
              "      // Send a message to notify the kernel that we're ready.\n",
              "      channel.send({})\n",
              "\n",
              "      for await (const message of channel.messages) {\n",
              "        // Send a message to notify the kernel that we're ready.\n",
              "        channel.send({})\n",
              "        if (message.buffers) {\n",
              "          for (const buffer of message.buffers) {\n",
              "            buffers.push(buffer);\n",
              "            downloaded += buffer.byteLength;\n",
              "            progress.value = downloaded;\n",
              "          }\n",
              "        }\n",
              "      }\n",
              "      const blob = new Blob(buffers, {type: 'application/binary'});\n",
              "      const a = document.createElement('a');\n",
              "      a.href = window.URL.createObjectURL(blob);\n",
              "      a.download = filename;\n",
              "      div.appendChild(a);\n",
              "      a.click();\n",
              "      div.remove();\n",
              "    }\n",
              "  "
            ],
            "text/plain": [
              "<IPython.core.display.Javascript object>"
            ]
          },
          "metadata": {
            "tags": []
          }
        },
        {
          "output_type": "display_data",
          "data": {
            "application/javascript": [
              "download(\"download_ac6a8d13-0b5c-4a15-b76f-730b55087636\", \"Prediction.csv\", 157052)"
            ],
            "text/plain": [
              "<IPython.core.display.Javascript object>"
            ]
          },
          "metadata": {
            "tags": []
          }
        }
      ]
    }
  ]
}